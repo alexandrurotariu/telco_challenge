{
 "metadata": {
  "language_info": {
   "codemirror_mode": {
    "name": "ipython",
    "version": 3
   },
   "file_extension": ".py",
   "mimetype": "text/x-python",
   "name": "python",
   "nbconvert_exporter": "python",
   "pygments_lexer": "ipython3",
   "version": "3.9.2"
  },
  "orig_nbformat": 2,
  "kernelspec": {
   "name": "python392jvsc74a57bd0d362f0ee3d5afa077a57ec1be67ce13277cc81209b993aa96a8631d1510698c4",
   "display_name": "Python 3.9.2 64-bit"
  },
  "metadata": {
   "interpreter": {
    "hash": "d362f0ee3d5afa077a57ec1be67ce13277cc81209b993aa96a8631d1510698c4"
   }
  }
 },
 "nbformat": 4,
 "nbformat_minor": 2,
 "cells": [
  {
   "source": [
    "# Challenge NOTEBOOK DI PREPARAZIONE"
   ],
   "cell_type": "markdown",
   "metadata": {}
  },
  {
   "cell_type": "code",
   "execution_count": 6,
   "metadata": {},
   "outputs": [
    {
     "output_type": "stream",
     "name": "stdout",
     "text": [
      "Requirement already satisfied: pandas in c:\\users\\alexr\\appdata\\local\\programs\\python\\python39\\lib\\site-packages (from -r requirements.txt (line 1)) (1.2.3)\nRequirement already satisfied: scikit-learn in c:\\users\\alexr\\appdata\\local\\programs\\python\\python39\\lib\\site-packages (from -r requirements.txt (line 2)) (0.24.2)\nRequirement already satisfied: numpy>=1.16.5 in c:\\users\\alexr\\appdata\\local\\programs\\python\\python39\\lib\\site-packages (from pandas->-r requirements.txt (line 1)) (1.20.2)\nRequirement already satisfied: pytz>=2017.3 in c:\\users\\alexr\\appdata\\local\\programs\\python\\python39\\lib\\site-packages (from pandas->-r requirements.txt (line 1)) (2021.1)\nRequirement already satisfied: python-dateutil>=2.7.3 in c:\\users\\alexr\\appdata\\local\\programs\\python\\python39\\lib\\site-packages (from pandas->-r requirements.txt (line 1)) (2.8.1)\nRequirement already satisfied: six>=1.5 in c:\\users\\alexr\\appdata\\local\\programs\\python\\python39\\lib\\site-packages (from python-dateutil>=2.7.3->pandas->-r requirements.txt (line 1)) (1.15.0)\nRequirement already satisfied: scipy>=0.19.1 in c:\\users\\alexr\\appdata\\local\\programs\\python\\python39\\lib\\site-packages (from scikit-learn->-r requirements.txt (line 2)) (1.6.2)\nRequirement already satisfied: threadpoolctl>=2.0.0 in c:\\users\\alexr\\appdata\\local\\programs\\python\\python39\\lib\\site-packages (from scikit-learn->-r requirements.txt (line 2)) (2.1.0)\nRequirement already satisfied: joblib>=0.11 in c:\\users\\alexr\\appdata\\local\\programs\\python\\python39\\lib\\site-packages (from scikit-learn->-r requirements.txt (line 2)) (1.0.1)\n"
     ]
    }
   ],
   "source": [
    "!pip install -r requirements.txt"
   ]
  },
  {
   "source": [
    "### Import"
   ],
   "cell_type": "markdown",
   "metadata": {}
  },
  {
   "cell_type": "code",
   "execution_count": 7,
   "metadata": {},
   "outputs": [],
   "source": [
    "import pandas as pd\n",
    "from sklearn.model_selection import train_test_split\n",
    "\n",
    "# dati su cui lavorare\n",
    "dati = pd.read_csv(\"./Telco-Customer-Churn.partial.csv\")"
   ]
  },
  {
   "source": [
    "### Split del dataset in train e test set"
   ],
   "cell_type": "markdown",
   "metadata": {}
  },
  {
   "source": [
    "train, test = train_test_split(dati, random_state=42)  \n",
    "train.to_csv('train.csv', index=False)\n",
    "test.to_csv('test.csv', index=False)"
   ],
   "cell_type": "code",
   "metadata": {},
   "execution_count": 9,
   "outputs": []
  }
 ]
}