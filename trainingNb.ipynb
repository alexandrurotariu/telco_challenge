{
 "cells": [
  {
   "cell_type": "code",
   "execution_count": 4,
   "metadata": {
    "tags": [
     "outputPrepend"
    ]
   },
   "outputs": [
    {
     "output_type": "stream",
     "name": "stdout",
     "text": [
      "d: python-dateutil>=2.7.3 in c:\\users\\alexr\\appdata\\local\\programs\\python\\python39\\lib\\site-packages (from pandas->-r requirements.txt (line 1)) (2.8.1)\nRequirement already satisfied: numpy>=1.16.5 in c:\\users\\alexr\\appdata\\local\\programs\\python\\python39\\lib\\site-packages (from pandas->-r requirements.txt (line 1)) (1.20.2)\nRequirement already satisfied: six>=1.5 in c:\\users\\alexr\\appdata\\local\\programs\\python\\python39\\lib\\site-packages (from python-dateutil>=2.7.3->pandas->-r requirements.txt (line 1)) (1.15.0)\nRequirement already satisfied: threadpoolctl>=2.0.0 in c:\\users\\alexr\\appdata\\local\\programs\\python\\python39\\lib\\site-packages (from scikit-learn->-r requirements.txt (line 2)) (2.1.0)\nRequirement already satisfied: joblib>=0.11 in c:\\users\\alexr\\appdata\\local\\programs\\python\\python39\\lib\\site-packages (from scikit-learn->-r requirements.txt (line 2)) (1.0.1)\nRequirement already satisfied: scipy>=0.19.1 in c:\\users\\alexr\\appdata\\local\\programs\\python\\python39\\lib\\site-packages (from scikit-learn->-r requirements.txt (line 2)) (1.6.2)\nRequirement already satisfied: matplotlib>=2.2 in c:\\users\\alexr\\appdata\\local\\programs\\python\\python39\\lib\\site-packages (from seaborn->-r requirements.txt (line 3)) (3.4.0)\nRequirement already satisfied: kiwisolver>=1.0.1 in c:\\users\\alexr\\appdata\\local\\programs\\python\\python39\\lib\\site-packages (from matplotlib>=2.2->seaborn->-r requirements.txt (line 3)) (1.3.1)\nRequirement already satisfied: pillow>=6.2.0 in c:\\users\\alexr\\appdata\\local\\programs\\python\\python39\\lib\\site-packages (from matplotlib>=2.2->seaborn->-r requirements.txt (line 3)) (8.1.2)\nRequirement already satisfied: pyparsing>=2.2.1 in c:\\users\\alexr\\appdata\\local\\programs\\python\\python39\\lib\\site-packages (from matplotlib>=2.2->seaborn->-r requirements.txt (line 3)) (2.4.7)\nRequirement already satisfied: cycler>=0.10 in c:\\users\\alexr\\appdata\\local\\programs\\python\\python39\\lib\\site-packages (from matplotlib>=2.2->seaborn->-r requirements.txt (line 3)) (0.10.0)\n"
     ]
    }
   ],
   "source": [
    "!pip install -r requirements.txt"
   ]
  },
  {
   "cell_type": "code",
   "execution_count": 5,
   "metadata": {},
   "outputs": [],
   "source": [
    "import numpy as np\n",
    "import pandas as pd\n",
    "import matplotlib.pyplot as plt\n",
    "import seaborn as sns\n",
    "from sklearn.model_selection import train_test_split\n",
    "from sklearn.preprocessing import LabelEncoder\n",
    "from sklearn.metrics import accuracy_score\n",
    "from sklearn.linear_model import LogisticRegression"
   ]
  },
  {
   "cell_type": "code",
   "execution_count": 6,
   "metadata": {},
   "outputs": [],
   "source": [
    "train = pd.read_csv(\"./train.csv\")\n",
    "test = pd.read_csv(\"./test.csv\")"
   ]
  },
  {
   "cell_type": "code",
   "execution_count": 7,
   "metadata": {},
   "outputs": [
    {
     "output_type": "stream",
     "name": "stdout",
     "text": [
      "<class 'pandas.core.frame.DataFrame'>\nRangeIndex: 4225 entries, 0 to 4224\nData columns (total 21 columns):\n #   Column            Non-Null Count  Dtype  \n---  ------            --------------  -----  \n 0   Churn             4225 non-null   object \n 1   customerID        4225 non-null   object \n 2   gender            4225 non-null   object \n 3   SeniorCitizen     4225 non-null   int64  \n 4   Partner           4225 non-null   object \n 5   Dependents        4225 non-null   object \n 6   tenure            4225 non-null   int64  \n 7   PhoneService      4225 non-null   object \n 8   MultipleLines     4225 non-null   object \n 9   InternetService   4225 non-null   object \n 10  OnlineSecurity    4225 non-null   object \n 11  OnlineBackup      4225 non-null   object \n 12  DeviceProtection  4225 non-null   object \n 13  TechSupport       4225 non-null   object \n 14  StreamingTV       4225 non-null   object \n 15  StreamingMovies   4225 non-null   object \n 16  Contract          4225 non-null   object \n 17  PaperlessBilling  4225 non-null   object \n 18  PaymentMethod     4225 non-null   object \n 19  MonthlyCharges    4225 non-null   float64\n 20  TotalCharges      4225 non-null   object \ndtypes: float64(1), int64(2), object(18)\nmemory usage: 693.3+ KB\n"
     ]
    }
   ],
   "source": [
    "train.info()"
   ]
  },
  {
   "cell_type": "code",
   "execution_count": 8,
   "metadata": {},
   "outputs": [
    {
     "output_type": "execute_result",
     "data": {
      "text/plain": [
       "endents  tenure  \\\n",
       "0   Yes  6776-TLWOI    Male              0      No         No       3   \n",
       "1    No  0036-IHMOT  Female              0     Yes        Yes      55   \n",
       "2    No  2843-CQMEG    Male              0      No         No      24   \n",
       "3    No  3247-MHJKM    Male              0      No         No       1   \n",
       "4    No  1194-BHJYC    Male              0     Yes         No      61   \n",
       "\n",
       "  PhoneService     MultipleLines InternetService  ...         OnlineBackup  \\\n",
       "0          Yes                No              No  ...  No internet service   \n",
       "1          Yes                No     Fiber optic  ...                  Yes   \n",
       "2          Yes                No             DSL  ...                  Yes   \n",
       "3          Yes                No              No  ...  No internet service   \n",
       "4           No  No phone service             DSL  ...                   No   \n",
       "\n",
       "      DeviceProtection          TechSupport          StreamingTV  \\\n",
       "0  No internet service  No internet service  No internet service   \n",
       "1                  Yes                  Yes                  Yes   \n",
       "2                   No                   No                   No   \n",
       "3  No internet service  No internet service  No internet service   \n",
       "4                  Yes                  Yes                  Yes   \n",
       "\n",
       "       StreamingMovies        Contract PaperlessBilling  \\\n",
       "0  No internet service  Month-to-month               No   \n",
       "1                  Yes        One year              Yes   \n",
       "2                   No  Month-to-month              Yes   \n",
       "3  No internet service  Month-to-month               No   \n",
       "4                  Yes        Two year              Yes   \n",
       "\n",
       "               PaymentMethod MonthlyCharges  TotalCharges  \n",
       "0               Mailed check          19.85         64.55  \n",
       "1  Bank transfer (automatic)         103.70       5656.75  \n",
       "2               Mailed check          49.70       1218.25  \n",
       "3               Mailed check          20.20          20.2  \n",
       "4               Mailed check          62.15       3778.85  \n",
       "\n",
       "[5 rows x 21 columns]"
      ],
      "text/html": "<div>\n<style scoped>\n    .dataframe tbody tr th:only-of-type {\n        vertical-align: middle;\n    }\n\n    .dataframe tbody tr th {\n        vertical-align: top;\n    }\n\n    .dataframe thead th {\n        text-align: right;\n    }\n</style>\n<table border=\"1\" class=\"dataframe\">\n  <thead>\n    <tr style=\"text-align: right;\">\n      <th></th>\n      <th>Churn</th>\n      <th>customerID</th>\n      <th>gender</th>\n      <th>SeniorCitizen</th>\n      <th>Partner</th>\n      <th>Dependents</th>\n      <th>tenure</th>\n      <th>PhoneService</th>\n      <th>MultipleLines</th>\n      <th>InternetService</th>\n      <th>...</th>\n      <th>OnlineBackup</th>\n      <th>DeviceProtection</th>\n      <th>TechSupport</th>\n      <th>StreamingTV</th>\n      <th>StreamingMovies</th>\n      <th>Contract</th>\n      <th>PaperlessBilling</th>\n      <th>PaymentMethod</th>\n      <th>MonthlyCharges</th>\n      <th>TotalCharges</th>\n    </tr>\n  </thead>\n  <tbody>\n    <tr>\n      <th>0</th>\n      <td>Yes</td>\n      <td>6776-TLWOI</td>\n      <td>Male</td>\n      <td>0</td>\n      <td>No</td>\n      <td>No</td>\n      <td>3</td>\n      <td>Yes</td>\n      <td>No</td>\n      <td>No</td>\n      <td>...</td>\n      <td>No internet service</td>\n      <td>No internet service</td>\n      <td>No internet service</td>\n      <td>No internet service</td>\n      <td>No internet service</td>\n      <td>Month-to-month</td>\n      <td>No</td>\n      <td>Mailed check</td>\n      <td>19.85</td>\n      <td>64.55</td>\n    </tr>\n    <tr>\n      <th>1</th>\n      <td>No</td>\n      <td>0036-IHMOT</td>\n      <td>Female</td>\n      <td>0</td>\n      <td>Yes</td>\n      <td>Yes</td>\n      <td>55</td>\n      <td>Yes</td>\n      <td>No</td>\n      <td>Fiber optic</td>\n      <td>...</td>\n      <td>Yes</td>\n      <td>Yes</td>\n      <td>Yes</td>\n      <td>Yes</td>\n      <td>Yes</td>\n      <td>One year</td>\n      <td>Yes</td>\n      <td>Bank transfer (automatic)</td>\n      <td>103.70</td>\n      <td>5656.75</td>\n    </tr>\n    <tr>\n      <th>2</th>\n      <td>No</td>\n      <td>2843-CQMEG</td>\n      <td>Male</td>\n      <td>0</td>\n      <td>No</td>\n      <td>No</td>\n      <td>24</td>\n      <td>Yes</td>\n      <td>No</td>\n      <td>DSL</td>\n      <td>...</td>\n      <td>Yes</td>\n      <td>No</td>\n      <td>No</td>\n      <td>No</td>\n      <td>No</td>\n      <td>Month-to-month</td>\n      <td>Yes</td>\n      <td>Mailed check</td>\n      <td>49.70</td>\n      <td>1218.25</td>\n    </tr>\n    <tr>\n      <th>3</th>\n      <td>No</td>\n      <td>3247-MHJKM</td>\n      <td>Male</td>\n      <td>0</td>\n      <td>No</td>\n      <td>No</td>\n      <td>1</td>\n      <td>Yes</td>\n      <td>No</td>\n      <td>No</td>\n      <td>...</td>\n      <td>No internet service</td>\n      <td>No internet service</td>\n      <td>No internet service</td>\n      <td>No internet service</td>\n      <td>No internet service</td>\n      <td>Month-to-month</td>\n      <td>No</td>\n      <td>Mailed check</td>\n      <td>20.20</td>\n      <td>20.2</td>\n    </tr>\n    <tr>\n      <th>4</th>\n      <td>No</td>\n      <td>1194-BHJYC</td>\n      <td>Male</td>\n      <td>0</td>\n      <td>Yes</td>\n      <td>No</td>\n      <td>61</td>\n      <td>No</td>\n      <td>No phone service</td>\n      <td>DSL</td>\n      <td>...</td>\n      <td>No</td>\n      <td>Yes</td>\n      <td>Yes</td>\n      <td>Yes</td>\n      <td>Yes</td>\n      <td>Two year</td>\n      <td>Yes</td>\n      <td>Mailed check</td>\n      <td>62.15</td>\n      <td>3778.85</td>\n    </tr>\n  </tbody>\n</table>\n<p>5 rows × 21 columns</p>\n</div>"
     },
     "metadata": {},
     "execution_count": 8
    }
   ],
   "source": [
    "train.head()"
   ]
  },
  {
   "cell_type": "code",
   "execution_count": 9,
   "metadata": {},
   "outputs": [
    {
     "output_type": "execute_result",
     "data": {
      "text/plain": [
       "     1  6776-TLWOI    Male              0        0           0       3   \n",
       "1      0  0036-IHMOT  Female              0        1           1      55   \n",
       "2      0  2843-CQMEG    Male              0        0           0      24   \n",
       "3      0  3247-MHJKM    Male              0        0           0       1   \n",
       "4      0  1194-BHJYC    Male              0        1           0      61   \n",
       "\n",
       "   PhoneService     MultipleLines InternetService  ...         OnlineBackup  \\\n",
       "0             1                No              No  ...  No internet service   \n",
       "1             1                No     Fiber optic  ...                  Yes   \n",
       "2             1                No             DSL  ...                  Yes   \n",
       "3             1                No              No  ...  No internet service   \n",
       "4             0  No phone service             DSL  ...                   No   \n",
       "\n",
       "      DeviceProtection          TechSupport          StreamingTV  \\\n",
       "0  No internet service  No internet service  No internet service   \n",
       "1                  Yes                  Yes                  Yes   \n",
       "2                   No                   No                   No   \n",
       "3  No internet service  No internet service  No internet service   \n",
       "4                  Yes                  Yes                  Yes   \n",
       "\n",
       "       StreamingMovies        Contract PaperlessBilling  \\\n",
       "0  No internet service  Month-to-month                0   \n",
       "1                  Yes        One year                1   \n",
       "2                   No  Month-to-month                1   \n",
       "3  No internet service  Month-to-month                0   \n",
       "4                  Yes        Two year                1   \n",
       "\n",
       "               PaymentMethod MonthlyCharges  TotalCharges  \n",
       "0               Mailed check          19.85         64.55  \n",
       "1  Bank transfer (automatic)         103.70       5656.75  \n",
       "2               Mailed check          49.70       1218.25  \n",
       "3               Mailed check          20.20          20.2  \n",
       "4               Mailed check          62.15       3778.85  \n",
       "\n",
       "[5 rows x 21 columns]"
      ],
      "text/html": "<div>\n<style scoped>\n    .dataframe tbody tr th:only-of-type {\n        vertical-align: middle;\n    }\n\n    .dataframe tbody tr th {\n        vertical-align: top;\n    }\n\n    .dataframe thead th {\n        text-align: right;\n    }\n</style>\n<table border=\"1\" class=\"dataframe\">\n  <thead>\n    <tr style=\"text-align: right;\">\n      <th></th>\n      <th>Churn</th>\n      <th>customerID</th>\n      <th>gender</th>\n      <th>SeniorCitizen</th>\n      <th>Partner</th>\n      <th>Dependents</th>\n      <th>tenure</th>\n      <th>PhoneService</th>\n      <th>MultipleLines</th>\n      <th>InternetService</th>\n      <th>...</th>\n      <th>OnlineBackup</th>\n      <th>DeviceProtection</th>\n      <th>TechSupport</th>\n      <th>StreamingTV</th>\n      <th>StreamingMovies</th>\n      <th>Contract</th>\n      <th>PaperlessBilling</th>\n      <th>PaymentMethod</th>\n      <th>MonthlyCharges</th>\n      <th>TotalCharges</th>\n    </tr>\n  </thead>\n  <tbody>\n    <tr>\n      <th>0</th>\n      <td>1</td>\n      <td>6776-TLWOI</td>\n      <td>Male</td>\n      <td>0</td>\n      <td>0</td>\n      <td>0</td>\n      <td>3</td>\n      <td>1</td>\n      <td>No</td>\n      <td>No</td>\n      <td>...</td>\n      <td>No internet service</td>\n      <td>No internet service</td>\n      <td>No internet service</td>\n      <td>No internet service</td>\n      <td>No internet service</td>\n      <td>Month-to-month</td>\n      <td>0</td>\n      <td>Mailed check</td>\n      <td>19.85</td>\n      <td>64.55</td>\n    </tr>\n    <tr>\n      <th>1</th>\n      <td>0</td>\n      <td>0036-IHMOT</td>\n      <td>Female</td>\n      <td>0</td>\n      <td>1</td>\n      <td>1</td>\n      <td>55</td>\n      <td>1</td>\n      <td>No</td>\n      <td>Fiber optic</td>\n      <td>...</td>\n      <td>Yes</td>\n      <td>Yes</td>\n      <td>Yes</td>\n      <td>Yes</td>\n      <td>Yes</td>\n      <td>One year</td>\n      <td>1</td>\n      <td>Bank transfer (automatic)</td>\n      <td>103.70</td>\n      <td>5656.75</td>\n    </tr>\n    <tr>\n      <th>2</th>\n      <td>0</td>\n      <td>2843-CQMEG</td>\n      <td>Male</td>\n      <td>0</td>\n      <td>0</td>\n      <td>0</td>\n      <td>24</td>\n      <td>1</td>\n      <td>No</td>\n      <td>DSL</td>\n      <td>...</td>\n      <td>Yes</td>\n      <td>No</td>\n      <td>No</td>\n      <td>No</td>\n      <td>No</td>\n      <td>Month-to-month</td>\n      <td>1</td>\n      <td>Mailed check</td>\n      <td>49.70</td>\n      <td>1218.25</td>\n    </tr>\n    <tr>\n      <th>3</th>\n      <td>0</td>\n      <td>3247-MHJKM</td>\n      <td>Male</td>\n      <td>0</td>\n      <td>0</td>\n      <td>0</td>\n      <td>1</td>\n      <td>1</td>\n      <td>No</td>\n      <td>No</td>\n      <td>...</td>\n      <td>No internet service</td>\n      <td>No internet service</td>\n      <td>No internet service</td>\n      <td>No internet service</td>\n      <td>No internet service</td>\n      <td>Month-to-month</td>\n      <td>0</td>\n      <td>Mailed check</td>\n      <td>20.20</td>\n      <td>20.2</td>\n    </tr>\n    <tr>\n      <th>4</th>\n      <td>0</td>\n      <td>1194-BHJYC</td>\n      <td>Male</td>\n      <td>0</td>\n      <td>1</td>\n      <td>0</td>\n      <td>61</td>\n      <td>0</td>\n      <td>No phone service</td>\n      <td>DSL</td>\n      <td>...</td>\n      <td>No</td>\n      <td>Yes</td>\n      <td>Yes</td>\n      <td>Yes</td>\n      <td>Yes</td>\n      <td>Two year</td>\n      <td>1</td>\n      <td>Mailed check</td>\n      <td>62.15</td>\n      <td>3778.85</td>\n    </tr>\n  </tbody>\n</table>\n<p>5 rows × 21 columns</p>\n</div>"
     },
     "metadata": {},
     "execution_count": 9
    }
   ],
   "source": [
    "#Incomincio la conversione dei valori delle colonne da Objects a Interi\n",
    "colonneDaConvertire = ['Partner','Dependents','PhoneService','PaperlessBilling','Churn']\n",
    "\n",
    "for x in colonneDaConvertire:\n",
    "    train[x].replace(to_replace='Yes', value=1, inplace=True)\n",
    "    train[x].replace(to_replace='No',  value=0, inplace=True)\n",
    "    test[x].replace(to_replace='Yes',  value=1, inplace=True)\n",
    "    test[x].replace(to_replace='No',  value=0, inplace=True)\n",
    "\n",
    "    \n",
    "\n",
    "train.head()"
   ]
  },
  {
   "cell_type": "code",
   "execution_count": 10,
   "metadata": {},
   "outputs": [
    {
     "output_type": "stream",
     "name": "stdout",
     "text": [
      "<class 'pandas.core.frame.DataFrame'>\nRangeIndex: 4225 entries, 0 to 4224\nData columns (total 21 columns):\n #   Column            Non-Null Count  Dtype  \n---  ------            --------------  -----  \n 0   Churn             4225 non-null   int64  \n 1   customerID        4225 non-null   object \n 2   gender            4225 non-null   object \n 3   SeniorCitizen     4225 non-null   int64  \n 4   Partner           4225 non-null   int64  \n 5   Dependents        4225 non-null   int64  \n 6   tenure            4225 non-null   int64  \n 7   PhoneService      4225 non-null   int64  \n 8   MultipleLines     4225 non-null   object \n 9   InternetService   4225 non-null   object \n 10  OnlineSecurity    4225 non-null   object \n 11  OnlineBackup      4225 non-null   object \n 12  DeviceProtection  4225 non-null   object \n 13  TechSupport       4225 non-null   object \n 14  StreamingTV       4225 non-null   object \n 15  StreamingMovies   4225 non-null   object \n 16  Contract          4225 non-null   object \n 17  PaperlessBilling  4225 non-null   int64  \n 18  PaymentMethod     4225 non-null   object \n 19  MonthlyCharges    4225 non-null   float64\n 20  TotalCharges      4225 non-null   object \ndtypes: float64(1), int64(7), object(13)\nmemory usage: 693.3+ KB\n"
     ]
    }
   ],
   "source": [
    "train.info()"
   ]
  },
  {
   "cell_type": "code",
   "execution_count": 11,
   "metadata": {},
   "outputs": [
    {
     "output_type": "execute_result",
     "data": {
      "text/plain": [
       "Churn               0\n",
       "customerID          0\n",
       "gender              0\n",
       "SeniorCitizen       0\n",
       "Partner             0\n",
       "Dependents          0\n",
       "tenure              0\n",
       "PhoneService        0\n",
       "MultipleLines       0\n",
       "InternetService     0\n",
       "OnlineSecurity      0\n",
       "OnlineBackup        0\n",
       "DeviceProtection    0\n",
       "TechSupport         0\n",
       "StreamingTV         0\n",
       "StreamingMovies     0\n",
       "Contract            0\n",
       "PaperlessBilling    0\n",
       "PaymentMethod       0\n",
       "MonthlyCharges      0\n",
       "TotalCharges        0\n",
       "dtype: int64"
      ]
     },
     "metadata": {},
     "execution_count": 11
    }
   ],
   "source": [
    "train.isnull().sum(axis = 0)"
   ]
  },
  {
   "cell_type": "code",
   "execution_count": 12,
   "metadata": {},
   "outputs": [],
   "source": [
    "train['TotalCharges'] = train['TotalCharges'].replace(\" \", 0).astype('float64')\n",
    "test['TotalCharges'] = test['TotalCharges'].replace(\" \", 0).astype('float64')"
   ]
  },
  {
   "cell_type": "code",
   "execution_count": 13,
   "metadata": {},
   "outputs": [
    {
     "output_type": "execute_result",
     "data": {
      "text/plain": [
       "     1  6776-TLWOI    Male              0        0           0       3   \n",
       "1      0  0036-IHMOT  Female              0        1           1      55   \n",
       "2      0  2843-CQMEG    Male              0        0           0      24   \n",
       "3      0  3247-MHJKM    Male              0        0           0       1   \n",
       "4      0  1194-BHJYC    Male              0        1           0      61   \n",
       "\n",
       "   PhoneService     MultipleLines InternetService  ...         OnlineBackup  \\\n",
       "0             1                No              No  ...  No internet service   \n",
       "1             1                No     Fiber optic  ...                  Yes   \n",
       "2             1                No             DSL  ...                  Yes   \n",
       "3             1                No              No  ...  No internet service   \n",
       "4             0  No phone service             DSL  ...                   No   \n",
       "\n",
       "      DeviceProtection          TechSupport          StreamingTV  \\\n",
       "0  No internet service  No internet service  No internet service   \n",
       "1                  Yes                  Yes                  Yes   \n",
       "2                   No                   No                   No   \n",
       "3  No internet service  No internet service  No internet service   \n",
       "4                  Yes                  Yes                  Yes   \n",
       "\n",
       "       StreamingMovies        Contract PaperlessBilling  \\\n",
       "0  No internet service  Month-to-month                0   \n",
       "1                  Yes        One year                1   \n",
       "2                   No  Month-to-month                1   \n",
       "3  No internet service  Month-to-month                0   \n",
       "4                  Yes        Two year                1   \n",
       "\n",
       "               PaymentMethod MonthlyCharges  TotalCharges  \n",
       "0               Mailed check          19.85         64.55  \n",
       "1  Bank transfer (automatic)         103.70       5656.75  \n",
       "2               Mailed check          49.70       1218.25  \n",
       "3               Mailed check          20.20         20.20  \n",
       "4               Mailed check          62.15       3778.85  \n",
       "\n",
       "[5 rows x 21 columns]"
      ],
      "text/html": "<div>\n<style scoped>\n    .dataframe tbody tr th:only-of-type {\n        vertical-align: middle;\n    }\n\n    .dataframe tbody tr th {\n        vertical-align: top;\n    }\n\n    .dataframe thead th {\n        text-align: right;\n    }\n</style>\n<table border=\"1\" class=\"dataframe\">\n  <thead>\n    <tr style=\"text-align: right;\">\n      <th></th>\n      <th>Churn</th>\n      <th>customerID</th>\n      <th>gender</th>\n      <th>SeniorCitizen</th>\n      <th>Partner</th>\n      <th>Dependents</th>\n      <th>tenure</th>\n      <th>PhoneService</th>\n      <th>MultipleLines</th>\n      <th>InternetService</th>\n      <th>...</th>\n      <th>OnlineBackup</th>\n      <th>DeviceProtection</th>\n      <th>TechSupport</th>\n      <th>StreamingTV</th>\n      <th>StreamingMovies</th>\n      <th>Contract</th>\n      <th>PaperlessBilling</th>\n      <th>PaymentMethod</th>\n      <th>MonthlyCharges</th>\n      <th>TotalCharges</th>\n    </tr>\n  </thead>\n  <tbody>\n    <tr>\n      <th>0</th>\n      <td>1</td>\n      <td>6776-TLWOI</td>\n      <td>Male</td>\n      <td>0</td>\n      <td>0</td>\n      <td>0</td>\n      <td>3</td>\n      <td>1</td>\n      <td>No</td>\n      <td>No</td>\n      <td>...</td>\n      <td>No internet service</td>\n      <td>No internet service</td>\n      <td>No internet service</td>\n      <td>No internet service</td>\n      <td>No internet service</td>\n      <td>Month-to-month</td>\n      <td>0</td>\n      <td>Mailed check</td>\n      <td>19.85</td>\n      <td>64.55</td>\n    </tr>\n    <tr>\n      <th>1</th>\n      <td>0</td>\n      <td>0036-IHMOT</td>\n      <td>Female</td>\n      <td>0</td>\n      <td>1</td>\n      <td>1</td>\n      <td>55</td>\n      <td>1</td>\n      <td>No</td>\n      <td>Fiber optic</td>\n      <td>...</td>\n      <td>Yes</td>\n      <td>Yes</td>\n      <td>Yes</td>\n      <td>Yes</td>\n      <td>Yes</td>\n      <td>One year</td>\n      <td>1</td>\n      <td>Bank transfer (automatic)</td>\n      <td>103.70</td>\n      <td>5656.75</td>\n    </tr>\n    <tr>\n      <th>2</th>\n      <td>0</td>\n      <td>2843-CQMEG</td>\n      <td>Male</td>\n      <td>0</td>\n      <td>0</td>\n      <td>0</td>\n      <td>24</td>\n      <td>1</td>\n      <td>No</td>\n      <td>DSL</td>\n      <td>...</td>\n      <td>Yes</td>\n      <td>No</td>\n      <td>No</td>\n      <td>No</td>\n      <td>No</td>\n      <td>Month-to-month</td>\n      <td>1</td>\n      <td>Mailed check</td>\n      <td>49.70</td>\n      <td>1218.25</td>\n    </tr>\n    <tr>\n      <th>3</th>\n      <td>0</td>\n      <td>3247-MHJKM</td>\n      <td>Male</td>\n      <td>0</td>\n      <td>0</td>\n      <td>0</td>\n      <td>1</td>\n      <td>1</td>\n      <td>No</td>\n      <td>No</td>\n      <td>...</td>\n      <td>No internet service</td>\n      <td>No internet service</td>\n      <td>No internet service</td>\n      <td>No internet service</td>\n      <td>No internet service</td>\n      <td>Month-to-month</td>\n      <td>0</td>\n      <td>Mailed check</td>\n      <td>20.20</td>\n      <td>20.20</td>\n    </tr>\n    <tr>\n      <th>4</th>\n      <td>0</td>\n      <td>1194-BHJYC</td>\n      <td>Male</td>\n      <td>0</td>\n      <td>1</td>\n      <td>0</td>\n      <td>61</td>\n      <td>0</td>\n      <td>No phone service</td>\n      <td>DSL</td>\n      <td>...</td>\n      <td>No</td>\n      <td>Yes</td>\n      <td>Yes</td>\n      <td>Yes</td>\n      <td>Yes</td>\n      <td>Two year</td>\n      <td>1</td>\n      <td>Mailed check</td>\n      <td>62.15</td>\n      <td>3778.85</td>\n    </tr>\n  </tbody>\n</table>\n<p>5 rows × 21 columns</p>\n</div>"
     },
     "metadata": {},
     "execution_count": 13
    }
   ],
   "source": [
    "train.head()"
   ]
  },
  {
   "cell_type": "code",
   "execution_count": 14,
   "metadata": {},
   "outputs": [],
   "source": [
    "#Codifica dei valori degli attributi customerID, Contract e PaymentMethod con valori interi\n",
    "Encoder = LabelEncoder() \n",
    "train[\"customerID\"] = Encoder.fit_transform(train[\"customerID\"])\n",
    "test[\"customerID\"] = Encoder.fit_transform(test[\"customerID\"])\n",
    "\n",
    "train[\"Contract\"] = Encoder.fit_transform(train[\"Contract\"])\n",
    "test[\"Contract\"] = Encoder.fit_transform(test[\"Contract\"])\n",
    "\n",
    "train[\"PaymentMethod\"] = Encoder.fit_transform(train[\"PaymentMethod\"])\n",
    "test[\"PaymentMethod\"] = Encoder.fit_transform(test[\"PaymentMethod\"])"
   ]
  },
  {
   "cell_type": "code",
   "execution_count": 15,
   "metadata": {},
   "outputs": [
    {
     "output_type": "stream",
     "name": "stdout",
     "text": [
      "MultipleLines\nNo                  2032\nNo phone service     402\nYes                 1791\ndtype: int64\n"
     ]
    }
   ],
   "source": [
    "print(train.groupby(\"MultipleLines\").size())"
   ]
  },
  {
   "cell_type": "code",
   "execution_count": 16,
   "metadata": {},
   "outputs": [],
   "source": [
    "mapping={'No': 0, 'No phone service': 2, 'Yes' : 1}\n",
    "train['MultipleLines'] = train['MultipleLines'].map(mapping)\n",
    "test['MultipleLines'] = test['MultipleLines'].map(mapping)"
   ]
  },
  {
   "cell_type": "code",
   "execution_count": 17,
   "metadata": {},
   "outputs": [
    {
     "output_type": "stream",
     "name": "stdout",
     "text": [
      "gender\nFemale    2052\nMale      2173\ndtype: int64\n"
     ]
    }
   ],
   "source": [
    "print(train.groupby(\"gender\").size())"
   ]
  },
  {
   "cell_type": "code",
   "execution_count": 18,
   "metadata": {},
   "outputs": [],
   "source": [
    "mapping={'Female': 1, 'Male': 0}\n",
    "train['gender'] = train['gender'].map(mapping)\n",
    "test['gender'] = test['gender'].map(mapping)"
   ]
  },
  {
   "cell_type": "code",
   "execution_count": 19,
   "metadata": {},
   "outputs": [],
   "source": [
    "#Fondo insieme le colonne inerenti allo streaming, ovvero StreamingTv e Streaming Services in un unica colonna StreamingServices\n",
    "list_streaming_services1 = []\n",
    "for x in range(len(train['StreamingTV'])):\n",
    "    if ((train['StreamingTV'][x] == 'No') and (train['StreamingMovies'][x] == 'No')):\n",
    "        list_streaming_services1.append('No')\n",
    "    else:\n",
    "        list_streaming_services1.append('Yes')\n",
    "\n",
    "list_streaming_services2 = []\n",
    "for x in range(len(test['StreamingTV'])):\n",
    "    if ((test['StreamingTV'][x] == 'No') and (test['StreamingMovies'][x] == 'No')):\n",
    "        list_streaming_services2.append('No')\n",
    "    else:\n",
    "        list_streaming_services2.append('Yes')\n",
    "\n",
    "train['StreamingServices'] = list_streaming_services1\n",
    "\n",
    "test['StreamingServices'] = list_streaming_services2"
   ]
  },
  {
   "cell_type": "code",
   "execution_count": 20,
   "metadata": {},
   "outputs": [
    {
     "output_type": "execute_result",
     "data": {
      "text/plain": [
       "   Churn  customerID  gender  SeniorCitizen  Partner  Dependents  tenure  \\\n",
       "0      1        2937       0              0        0           0       3   \n",
       "1      0          15       1              0        1           1      55   \n",
       "2      0        1187       0              0        0           0      24   \n",
       "3      0        1378       0              0        0           0       1   \n",
       "4      0         501       0              0        1           0      61   \n",
       "\n",
       "   PhoneService  MultipleLines InternetService  ...     DeviceProtection  \\\n",
       "0             1              0              No  ...  No internet service   \n",
       "1             1              0     Fiber optic  ...                  Yes   \n",
       "2             1              0             DSL  ...                   No   \n",
       "3             1              0              No  ...  No internet service   \n",
       "4             0              2             DSL  ...                  Yes   \n",
       "\n",
       "           TechSupport          StreamingTV      StreamingMovies Contract  \\\n",
       "0  No internet service  No internet service  No internet service        0   \n",
       "1                  Yes                  Yes                  Yes        1   \n",
       "2                   No                   No                   No        0   \n",
       "3  No internet service  No internet service  No internet service        0   \n",
       "4                  Yes                  Yes                  Yes        2   \n",
       "\n",
       "  PaperlessBilling  PaymentMethod  MonthlyCharges  TotalCharges  \\\n",
       "0                0              3           19.85         64.55   \n",
       "1                1              0          103.70       5656.75   \n",
       "2                1              3           49.70       1218.25   \n",
       "3                0              3           20.20         20.20   \n",
       "4                1              3           62.15       3778.85   \n",
       "\n",
       "   StreamingServices  \n",
       "0                Yes  \n",
       "1                Yes  \n",
       "2                 No  \n",
       "3                Yes  \n",
       "4                Yes  \n",
       "\n",
       "[5 rows x 22 columns]"
      ],
      "text/html": "<div>\n<style scoped>\n    .dataframe tbody tr th:only-of-type {\n        vertical-align: middle;\n    }\n\n    .dataframe tbody tr th {\n        vertical-align: top;\n    }\n\n    .dataframe thead th {\n        text-align: right;\n    }\n</style>\n<table border=\"1\" class=\"dataframe\">\n  <thead>\n    <tr style=\"text-align: right;\">\n      <th></th>\n      <th>Churn</th>\n      <th>customerID</th>\n      <th>gender</th>\n      <th>SeniorCitizen</th>\n      <th>Partner</th>\n      <th>Dependents</th>\n      <th>tenure</th>\n      <th>PhoneService</th>\n      <th>MultipleLines</th>\n      <th>InternetService</th>\n      <th>...</th>\n      <th>DeviceProtection</th>\n      <th>TechSupport</th>\n      <th>StreamingTV</th>\n      <th>StreamingMovies</th>\n      <th>Contract</th>\n      <th>PaperlessBilling</th>\n      <th>PaymentMethod</th>\n      <th>MonthlyCharges</th>\n      <th>TotalCharges</th>\n      <th>StreamingServices</th>\n    </tr>\n  </thead>\n  <tbody>\n    <tr>\n      <th>0</th>\n      <td>1</td>\n      <td>2937</td>\n      <td>0</td>\n      <td>0</td>\n      <td>0</td>\n      <td>0</td>\n      <td>3</td>\n      <td>1</td>\n      <td>0</td>\n      <td>No</td>\n      <td>...</td>\n      <td>No internet service</td>\n      <td>No internet service</td>\n      <td>No internet service</td>\n      <td>No internet service</td>\n      <td>0</td>\n      <td>0</td>\n      <td>3</td>\n      <td>19.85</td>\n      <td>64.55</td>\n      <td>Yes</td>\n    </tr>\n    <tr>\n      <th>1</th>\n      <td>0</td>\n      <td>15</td>\n      <td>1</td>\n      <td>0</td>\n      <td>1</td>\n      <td>1</td>\n      <td>55</td>\n      <td>1</td>\n      <td>0</td>\n      <td>Fiber optic</td>\n      <td>...</td>\n      <td>Yes</td>\n      <td>Yes</td>\n      <td>Yes</td>\n      <td>Yes</td>\n      <td>1</td>\n      <td>1</td>\n      <td>0</td>\n      <td>103.70</td>\n      <td>5656.75</td>\n      <td>Yes</td>\n    </tr>\n    <tr>\n      <th>2</th>\n      <td>0</td>\n      <td>1187</td>\n      <td>0</td>\n      <td>0</td>\n      <td>0</td>\n      <td>0</td>\n      <td>24</td>\n      <td>1</td>\n      <td>0</td>\n      <td>DSL</td>\n      <td>...</td>\n      <td>No</td>\n      <td>No</td>\n      <td>No</td>\n      <td>No</td>\n      <td>0</td>\n      <td>1</td>\n      <td>3</td>\n      <td>49.70</td>\n      <td>1218.25</td>\n      <td>No</td>\n    </tr>\n    <tr>\n      <th>3</th>\n      <td>0</td>\n      <td>1378</td>\n      <td>0</td>\n      <td>0</td>\n      <td>0</td>\n      <td>0</td>\n      <td>1</td>\n      <td>1</td>\n      <td>0</td>\n      <td>No</td>\n      <td>...</td>\n      <td>No internet service</td>\n      <td>No internet service</td>\n      <td>No internet service</td>\n      <td>No internet service</td>\n      <td>0</td>\n      <td>0</td>\n      <td>3</td>\n      <td>20.20</td>\n      <td>20.20</td>\n      <td>Yes</td>\n    </tr>\n    <tr>\n      <th>4</th>\n      <td>0</td>\n      <td>501</td>\n      <td>0</td>\n      <td>0</td>\n      <td>1</td>\n      <td>0</td>\n      <td>61</td>\n      <td>0</td>\n      <td>2</td>\n      <td>DSL</td>\n      <td>...</td>\n      <td>Yes</td>\n      <td>Yes</td>\n      <td>Yes</td>\n      <td>Yes</td>\n      <td>2</td>\n      <td>1</td>\n      <td>3</td>\n      <td>62.15</td>\n      <td>3778.85</td>\n      <td>Yes</td>\n    </tr>\n  </tbody>\n</table>\n<p>5 rows × 22 columns</p>\n</div>"
     },
     "metadata": {},
     "execution_count": 20
    }
   ],
   "source": [
    "train.head()"
   ]
  },
  {
   "cell_type": "code",
   "execution_count": 21,
   "metadata": {},
   "outputs": [],
   "source": [
    "train=train.drop([\"StreamingTV\", \"StreamingMovies\"], axis=1)\n",
    "test=test.drop([\"StreamingTV\", \"StreamingMovies\"], axis=1)"
   ]
  },
  {
   "cell_type": "code",
   "execution_count": 22,
   "metadata": {},
   "outputs": [],
   "source": [
    "colonneDaConvertire = ['OnlineSecurity','OnlineBackup','DeviceProtection','TechSupport','StreamingServices']\n",
    "\n",
    "for x in colonneDaConvertire:\n",
    "    train[x].replace(to_replace='Yes', value=1, inplace=True)\n",
    "    train[x].replace(to_replace='No',  value=0, inplace=True)\n",
    "    train[x].replace(to_replace='No internet service', value=2, inplace=True)\n",
    "    test[x].replace(to_replace='Yes', value=1, inplace=True)\n",
    "    test[x].replace(to_replace='No',  value=0, inplace=True)\n",
    "    test[x].replace(to_replace='No internet service', value=2, inplace=True)"
   ]
  },
  {
   "cell_type": "code",
   "execution_count": 23,
   "metadata": {},
   "outputs": [
    {
     "output_type": "stream",
     "name": "stdout",
     "text": [
      "InternetService\nDSL            1459\nFiber optic    1856\nNo              910\ndtype: int64\n"
     ]
    }
   ],
   "source": [
    "print(train.groupby(\"InternetService\").size())"
   ]
  },
  {
   "cell_type": "code",
   "execution_count": 24,
   "metadata": {},
   "outputs": [],
   "source": [
    "mapping={'DSL': 0, 'Fiber optic': 1, 'No' : 2}\n",
    "train['InternetService'] = train['InternetService'].map(mapping)\n",
    "test['InternetService'] = test['InternetService'].map(mapping)"
   ]
  },
  {
   "cell_type": "code",
   "execution_count": 25,
   "metadata": {},
   "outputs": [
    {
     "output_type": "execute_result",
     "data": {
      "text/plain": [
       "<AxesSubplot:xlabel='Churn', ylabel='gender'>"
      ]
     },
     "metadata": {},
     "execution_count": 25
    },
    {
     "output_type": "display_data",
     "data": {
      "text/plain": "<Figure size 720x432 with 1 Axes>",
      "image/svg+xml": "<?xml version=\"1.0\" encoding=\"utf-8\" standalone=\"no\"?>\r\n<!DOCTYPE svg PUBLIC \"-//W3C//DTD SVG 1.1//EN\"\r\n  \"http://www.w3.org/Graphics/SVG/1.1/DTD/svg11.dtd\">\r\n<svg height=\"370.91625pt\" version=\"1.1\" viewBox=\"0 0 608.98125 370.91625\" width=\"608.98125pt\" xmlns=\"http://www.w3.org/2000/svg\" xmlns:xlink=\"http://www.w3.org/1999/xlink\">\r\n <metadata>\r\n  <rdf:RDF xmlns:cc=\"http://creativecommons.org/ns#\" xmlns:dc=\"http://purl.org/dc/elements/1.1/\" xmlns:rdf=\"http://www.w3.org/1999/02/22-rdf-syntax-ns#\">\r\n   <cc:Work>\r\n    <dc:type rdf:resource=\"http://purl.org/dc/dcmitype/StillImage\"/>\r\n    <dc:date>2021-06-09T09:31:57.168093</dc:date>\r\n    <dc:format>image/svg+xml</dc:format>\r\n    <dc:creator>\r\n     <cc:Agent>\r\n      <dc:title>Matplotlib v3.4.0, https://matplotlib.org/</dc:title>\r\n     </cc:Agent>\r\n    </dc:creator>\r\n   </cc:Work>\r\n  </rdf:RDF>\r\n </metadata>\r\n <defs>\r\n  <style type=\"text/css\">*{stroke-linecap:butt;stroke-linejoin:round;}</style>\r\n </defs>\r\n <g id=\"figure_1\">\r\n  <g id=\"patch_1\">\r\n   <path d=\"M 0 370.91625 \r\nL 608.98125 370.91625 \r\nL 608.98125 0 \r\nL 0 0 \r\nz\r\n\" style=\"fill:none;\"/>\r\n  </g>\r\n  <g id=\"axes_1\">\r\n   <g id=\"patch_2\">\r\n    <path d=\"M 43.78125 333.36 \r\nL 601.78125 333.36 \r\nL 601.78125 7.2 \r\nL 43.78125 7.2 \r\nz\r\n\" style=\"fill:#ffffff;\"/>\r\n   </g>\r\n   <g id=\"patch_3\">\r\n    <path clip-path=\"url(#pd8dbb97816)\" d=\"M 71.68125 333.36 \r\nL 294.88125 333.36 \r\nL 294.88125 55.013277 \r\nL 71.68125 55.013277 \r\nz\r\n\" style=\"fill:#3274a1;\"/>\r\n   </g>\r\n   <g id=\"patch_4\">\r\n    <path clip-path=\"url(#pd8dbb97816)\" d=\"M 350.68125 333.36 \r\nL 573.88125 333.36 \r\nL 573.88125 38.367095 \r\nL 350.68125 38.367095 \r\nz\r\n\" style=\"fill:#e1812c;\"/>\r\n   </g>\r\n   <g id=\"matplotlib.axis_1\">\r\n    <g id=\"xtick_1\">\r\n     <g id=\"line2d_1\">\r\n      <defs>\r\n       <path d=\"M 0 0 \r\nL 0 3.5 \r\n\" id=\"m6bdd7fd098\" style=\"stroke:#000000;stroke-width:0.8;\"/>\r\n      </defs>\r\n      <g>\r\n       <use style=\"stroke:#000000;stroke-width:0.8;\" x=\"183.28125\" xlink:href=\"#m6bdd7fd098\" y=\"333.36\"/>\r\n      </g>\r\n     </g>\r\n     <g id=\"text_1\">\r\n      <!-- 0 -->\r\n      <g transform=\"translate(180.1 347.958438)scale(0.1 -0.1)\">\r\n       <defs>\r\n        <path d=\"M 2034 4250 \r\nQ 1547 4250 1301 3770 \r\nQ 1056 3291 1056 2328 \r\nQ 1056 1369 1301 889 \r\nQ 1547 409 2034 409 \r\nQ 2525 409 2770 889 \r\nQ 3016 1369 3016 2328 \r\nQ 3016 3291 2770 3770 \r\nQ 2525 4250 2034 4250 \r\nz\r\nM 2034 4750 \r\nQ 2819 4750 3233 4129 \r\nQ 3647 3509 3647 2328 \r\nQ 3647 1150 3233 529 \r\nQ 2819 -91 2034 -91 \r\nQ 1250 -91 836 529 \r\nQ 422 1150 422 2328 \r\nQ 422 3509 836 4129 \r\nQ 1250 4750 2034 4750 \r\nz\r\n\" id=\"DejaVuSans-30\" transform=\"scale(0.015625)\"/>\r\n       </defs>\r\n       <use xlink:href=\"#DejaVuSans-30\"/>\r\n      </g>\r\n     </g>\r\n    </g>\r\n    <g id=\"xtick_2\">\r\n     <g id=\"line2d_2\">\r\n      <g>\r\n       <use style=\"stroke:#000000;stroke-width:0.8;\" x=\"462.28125\" xlink:href=\"#m6bdd7fd098\" y=\"333.36\"/>\r\n      </g>\r\n     </g>\r\n     <g id=\"text_2\">\r\n      <!-- 1 -->\r\n      <g transform=\"translate(459.1 347.958438)scale(0.1 -0.1)\">\r\n       <defs>\r\n        <path d=\"M 794 531 \r\nL 1825 531 \r\nL 1825 4091 \r\nL 703 3866 \r\nL 703 4441 \r\nL 1819 4666 \r\nL 2450 4666 \r\nL 2450 531 \r\nL 3481 531 \r\nL 3481 0 \r\nL 794 0 \r\nL 794 531 \r\nz\r\n\" id=\"DejaVuSans-31\" transform=\"scale(0.015625)\"/>\r\n       </defs>\r\n       <use xlink:href=\"#DejaVuSans-31\"/>\r\n      </g>\r\n     </g>\r\n    </g>\r\n    <g id=\"text_3\">\r\n     <!-- Churn -->\r\n     <g transform=\"translate(307.815625 361.636562)scale(0.1 -0.1)\">\r\n      <defs>\r\n       <path d=\"M 4122 4306 \r\nL 4122 3641 \r\nQ 3803 3938 3442 4084 \r\nQ 3081 4231 2675 4231 \r\nQ 1875 4231 1450 3742 \r\nQ 1025 3253 1025 2328 \r\nQ 1025 1406 1450 917 \r\nQ 1875 428 2675 428 \r\nQ 3081 428 3442 575 \r\nQ 3803 722 4122 1019 \r\nL 4122 359 \r\nQ 3791 134 3420 21 \r\nQ 3050 -91 2638 -91 \r\nQ 1578 -91 968 557 \r\nQ 359 1206 359 2328 \r\nQ 359 3453 968 4101 \r\nQ 1578 4750 2638 4750 \r\nQ 3056 4750 3426 4639 \r\nQ 3797 4528 4122 4306 \r\nz\r\n\" id=\"DejaVuSans-43\" transform=\"scale(0.015625)\"/>\r\n       <path d=\"M 3513 2113 \r\nL 3513 0 \r\nL 2938 0 \r\nL 2938 2094 \r\nQ 2938 2591 2744 2837 \r\nQ 2550 3084 2163 3084 \r\nQ 1697 3084 1428 2787 \r\nQ 1159 2491 1159 1978 \r\nL 1159 0 \r\nL 581 0 \r\nL 581 4863 \r\nL 1159 4863 \r\nL 1159 2956 \r\nQ 1366 3272 1645 3428 \r\nQ 1925 3584 2291 3584 \r\nQ 2894 3584 3203 3211 \r\nQ 3513 2838 3513 2113 \r\nz\r\n\" id=\"DejaVuSans-68\" transform=\"scale(0.015625)\"/>\r\n       <path d=\"M 544 1381 \r\nL 544 3500 \r\nL 1119 3500 \r\nL 1119 1403 \r\nQ 1119 906 1312 657 \r\nQ 1506 409 1894 409 \r\nQ 2359 409 2629 706 \r\nQ 2900 1003 2900 1516 \r\nL 2900 3500 \r\nL 3475 3500 \r\nL 3475 0 \r\nL 2900 0 \r\nL 2900 538 \r\nQ 2691 219 2414 64 \r\nQ 2138 -91 1772 -91 \r\nQ 1169 -91 856 284 \r\nQ 544 659 544 1381 \r\nz\r\nM 1991 3584 \r\nL 1991 3584 \r\nz\r\n\" id=\"DejaVuSans-75\" transform=\"scale(0.015625)\"/>\r\n       <path d=\"M 2631 2963 \r\nQ 2534 3019 2420 3045 \r\nQ 2306 3072 2169 3072 \r\nQ 1681 3072 1420 2755 \r\nQ 1159 2438 1159 1844 \r\nL 1159 0 \r\nL 581 0 \r\nL 581 3500 \r\nL 1159 3500 \r\nL 1159 2956 \r\nQ 1341 3275 1631 3429 \r\nQ 1922 3584 2338 3584 \r\nQ 2397 3584 2469 3576 \r\nQ 2541 3569 2628 3553 \r\nL 2631 2963 \r\nz\r\n\" id=\"DejaVuSans-72\" transform=\"scale(0.015625)\"/>\r\n       <path d=\"M 3513 2113 \r\nL 3513 0 \r\nL 2938 0 \r\nL 2938 2094 \r\nQ 2938 2591 2744 2837 \r\nQ 2550 3084 2163 3084 \r\nQ 1697 3084 1428 2787 \r\nQ 1159 2491 1159 1978 \r\nL 1159 0 \r\nL 581 0 \r\nL 581 3500 \r\nL 1159 3500 \r\nL 1159 2956 \r\nQ 1366 3272 1645 3428 \r\nQ 1925 3584 2291 3584 \r\nQ 2894 3584 3203 3211 \r\nQ 3513 2838 3513 2113 \r\nz\r\n\" id=\"DejaVuSans-6e\" transform=\"scale(0.015625)\"/>\r\n      </defs>\r\n      <use xlink:href=\"#DejaVuSans-43\"/>\r\n      <use x=\"69.824219\" xlink:href=\"#DejaVuSans-68\"/>\r\n      <use x=\"133.203125\" xlink:href=\"#DejaVuSans-75\"/>\r\n      <use x=\"196.582031\" xlink:href=\"#DejaVuSans-72\"/>\r\n      <use x=\"235.945312\" xlink:href=\"#DejaVuSans-6e\"/>\r\n     </g>\r\n    </g>\r\n   </g>\r\n   <g id=\"matplotlib.axis_2\">\r\n    <g id=\"ytick_1\">\r\n     <g id=\"line2d_3\">\r\n      <defs>\r\n       <path d=\"M 0 0 \r\nL -3.5 0 \r\n\" id=\"m1bbbdccdda\" style=\"stroke:#000000;stroke-width:0.8;\"/>\r\n      </defs>\r\n      <g>\r\n       <use style=\"stroke:#000000;stroke-width:0.8;\" x=\"43.78125\" xlink:href=\"#m1bbbdccdda\" y=\"333.36\"/>\r\n      </g>\r\n     </g>\r\n     <g id=\"text_4\">\r\n      <!-- 0.0 -->\r\n      <g transform=\"translate(20.878125 337.159219)scale(0.1 -0.1)\">\r\n       <defs>\r\n        <path d=\"M 684 794 \r\nL 1344 794 \r\nL 1344 0 \r\nL 684 0 \r\nL 684 794 \r\nz\r\n\" id=\"DejaVuSans-2e\" transform=\"scale(0.015625)\"/>\r\n       </defs>\r\n       <use xlink:href=\"#DejaVuSans-30\"/>\r\n       <use x=\"63.623047\" xlink:href=\"#DejaVuSans-2e\"/>\r\n       <use x=\"95.410156\" xlink:href=\"#DejaVuSans-30\"/>\r\n      </g>\r\n     </g>\r\n    </g>\r\n    <g id=\"ytick_2\">\r\n     <g id=\"line2d_4\">\r\n      <g>\r\n       <use style=\"stroke:#000000;stroke-width:0.8;\" x=\"43.78125\" xlink:href=\"#m1bbbdccdda\" y=\"275.143202\"/>\r\n      </g>\r\n     </g>\r\n     <g id=\"text_5\">\r\n      <!-- 0.1 -->\r\n      <g transform=\"translate(20.878125 278.942421)scale(0.1 -0.1)\">\r\n       <use xlink:href=\"#DejaVuSans-30\"/>\r\n       <use x=\"63.623047\" xlink:href=\"#DejaVuSans-2e\"/>\r\n       <use x=\"95.410156\" xlink:href=\"#DejaVuSans-31\"/>\r\n      </g>\r\n     </g>\r\n    </g>\r\n    <g id=\"ytick_3\">\r\n     <g id=\"line2d_5\">\r\n      <g>\r\n       <use style=\"stroke:#000000;stroke-width:0.8;\" x=\"43.78125\" xlink:href=\"#m1bbbdccdda\" y=\"216.926405\"/>\r\n      </g>\r\n     </g>\r\n     <g id=\"text_6\">\r\n      <!-- 0.2 -->\r\n      <g transform=\"translate(20.878125 220.725623)scale(0.1 -0.1)\">\r\n       <defs>\r\n        <path d=\"M 1228 531 \r\nL 3431 531 \r\nL 3431 0 \r\nL 469 0 \r\nL 469 531 \r\nQ 828 903 1448 1529 \r\nQ 2069 2156 2228 2338 \r\nQ 2531 2678 2651 2914 \r\nQ 2772 3150 2772 3378 \r\nQ 2772 3750 2511 3984 \r\nQ 2250 4219 1831 4219 \r\nQ 1534 4219 1204 4116 \r\nQ 875 4013 500 3803 \r\nL 500 4441 \r\nQ 881 4594 1212 4672 \r\nQ 1544 4750 1819 4750 \r\nQ 2544 4750 2975 4387 \r\nQ 3406 4025 3406 3419 \r\nQ 3406 3131 3298 2873 \r\nQ 3191 2616 2906 2266 \r\nQ 2828 2175 2409 1742 \r\nQ 1991 1309 1228 531 \r\nz\r\n\" id=\"DejaVuSans-32\" transform=\"scale(0.015625)\"/>\r\n       </defs>\r\n       <use xlink:href=\"#DejaVuSans-30\"/>\r\n       <use x=\"63.623047\" xlink:href=\"#DejaVuSans-2e\"/>\r\n       <use x=\"95.410156\" xlink:href=\"#DejaVuSans-32\"/>\r\n      </g>\r\n     </g>\r\n    </g>\r\n    <g id=\"ytick_4\">\r\n     <g id=\"line2d_6\">\r\n      <g>\r\n       <use style=\"stroke:#000000;stroke-width:0.8;\" x=\"43.78125\" xlink:href=\"#m1bbbdccdda\" y=\"158.709607\"/>\r\n      </g>\r\n     </g>\r\n     <g id=\"text_7\">\r\n      <!-- 0.3 -->\r\n      <g transform=\"translate(20.878125 162.508826)scale(0.1 -0.1)\">\r\n       <defs>\r\n        <path d=\"M 2597 2516 \r\nQ 3050 2419 3304 2112 \r\nQ 3559 1806 3559 1356 \r\nQ 3559 666 3084 287 \r\nQ 2609 -91 1734 -91 \r\nQ 1441 -91 1130 -33 \r\nQ 819 25 488 141 \r\nL 488 750 \r\nQ 750 597 1062 519 \r\nQ 1375 441 1716 441 \r\nQ 2309 441 2620 675 \r\nQ 2931 909 2931 1356 \r\nQ 2931 1769 2642 2001 \r\nQ 2353 2234 1838 2234 \r\nL 1294 2234 \r\nL 1294 2753 \r\nL 1863 2753 \r\nQ 2328 2753 2575 2939 \r\nQ 2822 3125 2822 3475 \r\nQ 2822 3834 2567 4026 \r\nQ 2313 4219 1838 4219 \r\nQ 1578 4219 1281 4162 \r\nQ 984 4106 628 3988 \r\nL 628 4550 \r\nQ 988 4650 1302 4700 \r\nQ 1616 4750 1894 4750 \r\nQ 2613 4750 3031 4423 \r\nQ 3450 4097 3450 3541 \r\nQ 3450 3153 3228 2886 \r\nQ 3006 2619 2597 2516 \r\nz\r\n\" id=\"DejaVuSans-33\" transform=\"scale(0.015625)\"/>\r\n       </defs>\r\n       <use xlink:href=\"#DejaVuSans-30\"/>\r\n       <use x=\"63.623047\" xlink:href=\"#DejaVuSans-2e\"/>\r\n       <use x=\"95.410156\" xlink:href=\"#DejaVuSans-33\"/>\r\n      </g>\r\n     </g>\r\n    </g>\r\n    <g id=\"ytick_5\">\r\n     <g id=\"line2d_7\">\r\n      <g>\r\n       <use style=\"stroke:#000000;stroke-width:0.8;\" x=\"43.78125\" xlink:href=\"#m1bbbdccdda\" y=\"100.492809\"/>\r\n      </g>\r\n     </g>\r\n     <g id=\"text_8\">\r\n      <!-- 0.4 -->\r\n      <g transform=\"translate(20.878125 104.292028)scale(0.1 -0.1)\">\r\n       <defs>\r\n        <path d=\"M 2419 4116 \r\nL 825 1625 \r\nL 2419 1625 \r\nL 2419 4116 \r\nz\r\nM 2253 4666 \r\nL 3047 4666 \r\nL 3047 1625 \r\nL 3713 1625 \r\nL 3713 1100 \r\nL 3047 1100 \r\nL 3047 0 \r\nL 2419 0 \r\nL 2419 1100 \r\nL 313 1100 \r\nL 313 1709 \r\nL 2253 4666 \r\nz\r\n\" id=\"DejaVuSans-34\" transform=\"scale(0.015625)\"/>\r\n       </defs>\r\n       <use xlink:href=\"#DejaVuSans-30\"/>\r\n       <use x=\"63.623047\" xlink:href=\"#DejaVuSans-2e\"/>\r\n       <use x=\"95.410156\" xlink:href=\"#DejaVuSans-34\"/>\r\n      </g>\r\n     </g>\r\n    </g>\r\n    <g id=\"ytick_6\">\r\n     <g id=\"line2d_8\">\r\n      <g>\r\n       <use style=\"stroke:#000000;stroke-width:0.8;\" x=\"43.78125\" xlink:href=\"#m1bbbdccdda\" y=\"42.276012\"/>\r\n      </g>\r\n     </g>\r\n     <g id=\"text_9\">\r\n      <!-- 0.5 -->\r\n      <g transform=\"translate(20.878125 46.07523)scale(0.1 -0.1)\">\r\n       <defs>\r\n        <path d=\"M 691 4666 \r\nL 3169 4666 \r\nL 3169 4134 \r\nL 1269 4134 \r\nL 1269 2991 \r\nQ 1406 3038 1543 3061 \r\nQ 1681 3084 1819 3084 \r\nQ 2600 3084 3056 2656 \r\nQ 3513 2228 3513 1497 \r\nQ 3513 744 3044 326 \r\nQ 2575 -91 1722 -91 \r\nQ 1428 -91 1123 -41 \r\nQ 819 9 494 109 \r\nL 494 744 \r\nQ 775 591 1075 516 \r\nQ 1375 441 1709 441 \r\nQ 2250 441 2565 725 \r\nQ 2881 1009 2881 1497 \r\nQ 2881 1984 2565 2268 \r\nQ 2250 2553 1709 2553 \r\nQ 1456 2553 1204 2497 \r\nQ 953 2441 691 2322 \r\nL 691 4666 \r\nz\r\n\" id=\"DejaVuSans-35\" transform=\"scale(0.015625)\"/>\r\n       </defs>\r\n       <use xlink:href=\"#DejaVuSans-30\"/>\r\n       <use x=\"63.623047\" xlink:href=\"#DejaVuSans-2e\"/>\r\n       <use x=\"95.410156\" xlink:href=\"#DejaVuSans-35\"/>\r\n      </g>\r\n     </g>\r\n    </g>\r\n    <g id=\"text_10\">\r\n     <!-- gender -->\r\n     <g transform=\"translate(14.798438 188.005781)rotate(-90)scale(0.1 -0.1)\">\r\n      <defs>\r\n       <path d=\"M 2906 1791 \r\nQ 2906 2416 2648 2759 \r\nQ 2391 3103 1925 3103 \r\nQ 1463 3103 1205 2759 \r\nQ 947 2416 947 1791 \r\nQ 947 1169 1205 825 \r\nQ 1463 481 1925 481 \r\nQ 2391 481 2648 825 \r\nQ 2906 1169 2906 1791 \r\nz\r\nM 3481 434 \r\nQ 3481 -459 3084 -895 \r\nQ 2688 -1331 1869 -1331 \r\nQ 1566 -1331 1297 -1286 \r\nQ 1028 -1241 775 -1147 \r\nL 775 -588 \r\nQ 1028 -725 1275 -790 \r\nQ 1522 -856 1778 -856 \r\nQ 2344 -856 2625 -561 \r\nQ 2906 -266 2906 331 \r\nL 2906 616 \r\nQ 2728 306 2450 153 \r\nQ 2172 0 1784 0 \r\nQ 1141 0 747 490 \r\nQ 353 981 353 1791 \r\nQ 353 2603 747 3093 \r\nQ 1141 3584 1784 3584 \r\nQ 2172 3584 2450 3431 \r\nQ 2728 3278 2906 2969 \r\nL 2906 3500 \r\nL 3481 3500 \r\nL 3481 434 \r\nz\r\n\" id=\"DejaVuSans-67\" transform=\"scale(0.015625)\"/>\r\n       <path d=\"M 3597 1894 \r\nL 3597 1613 \r\nL 953 1613 \r\nQ 991 1019 1311 708 \r\nQ 1631 397 2203 397 \r\nQ 2534 397 2845 478 \r\nQ 3156 559 3463 722 \r\nL 3463 178 \r\nQ 3153 47 2828 -22 \r\nQ 2503 -91 2169 -91 \r\nQ 1331 -91 842 396 \r\nQ 353 884 353 1716 \r\nQ 353 2575 817 3079 \r\nQ 1281 3584 2069 3584 \r\nQ 2775 3584 3186 3129 \r\nQ 3597 2675 3597 1894 \r\nz\r\nM 3022 2063 \r\nQ 3016 2534 2758 2815 \r\nQ 2500 3097 2075 3097 \r\nQ 1594 3097 1305 2825 \r\nQ 1016 2553 972 2059 \r\nL 3022 2063 \r\nz\r\n\" id=\"DejaVuSans-65\" transform=\"scale(0.015625)\"/>\r\n       <path d=\"M 2906 2969 \r\nL 2906 4863 \r\nL 3481 4863 \r\nL 3481 0 \r\nL 2906 0 \r\nL 2906 525 \r\nQ 2725 213 2448 61 \r\nQ 2172 -91 1784 -91 \r\nQ 1150 -91 751 415 \r\nQ 353 922 353 1747 \r\nQ 353 2572 751 3078 \r\nQ 1150 3584 1784 3584 \r\nQ 2172 3584 2448 3432 \r\nQ 2725 3281 2906 2969 \r\nz\r\nM 947 1747 \r\nQ 947 1113 1208 752 \r\nQ 1469 391 1925 391 \r\nQ 2381 391 2643 752 \r\nQ 2906 1113 2906 1747 \r\nQ 2906 2381 2643 2742 \r\nQ 2381 3103 1925 3103 \r\nQ 1469 3103 1208 2742 \r\nQ 947 2381 947 1747 \r\nz\r\n\" id=\"DejaVuSans-64\" transform=\"scale(0.015625)\"/>\r\n      </defs>\r\n      <use xlink:href=\"#DejaVuSans-67\"/>\r\n      <use x=\"63.476562\" xlink:href=\"#DejaVuSans-65\"/>\r\n      <use x=\"125\" xlink:href=\"#DejaVuSans-6e\"/>\r\n      <use x=\"188.378906\" xlink:href=\"#DejaVuSans-64\"/>\r\n      <use x=\"251.855469\" xlink:href=\"#DejaVuSans-65\"/>\r\n      <use x=\"313.378906\" xlink:href=\"#DejaVuSans-72\"/>\r\n     </g>\r\n    </g>\r\n   </g>\r\n   <g id=\"line2d_9\">\r\n    <path clip-path=\"url(#pd8dbb97816)\" d=\"M 183.28125 65.137531 \r\nL 183.28125 44.144456 \r\n\" style=\"fill:none;stroke:#424242;stroke-linecap:square;stroke-width:2.7;\"/>\r\n   </g>\r\n   <g id=\"line2d_10\">\r\n    <path clip-path=\"url(#pd8dbb97816)\" d=\"M 462.28125 55.045139 \r\nL 462.28125 22.731429 \r\n\" style=\"fill:none;stroke:#424242;stroke-linecap:square;stroke-width:2.7;\"/>\r\n   </g>\r\n   <g id=\"patch_5\">\r\n    <path d=\"M 43.78125 333.36 \r\nL 43.78125 7.2 \r\n\" style=\"fill:none;stroke:#000000;stroke-linecap:square;stroke-linejoin:miter;stroke-width:0.8;\"/>\r\n   </g>\r\n   <g id=\"patch_6\">\r\n    <path d=\"M 601.78125 333.36 \r\nL 601.78125 7.2 \r\n\" style=\"fill:none;stroke:#000000;stroke-linecap:square;stroke-linejoin:miter;stroke-width:0.8;\"/>\r\n   </g>\r\n   <g id=\"patch_7\">\r\n    <path d=\"M 43.78125 333.36 \r\nL 601.78125 333.36 \r\n\" style=\"fill:none;stroke:#000000;stroke-linecap:square;stroke-linejoin:miter;stroke-width:0.8;\"/>\r\n   </g>\r\n   <g id=\"patch_8\">\r\n    <path d=\"M 43.78125 7.2 \r\nL 601.78125 7.2 \r\n\" style=\"fill:none;stroke:#000000;stroke-linecap:square;stroke-linejoin:miter;stroke-width:0.8;\"/>\r\n   </g>\r\n  </g>\r\n </g>\r\n <defs>\r\n  <clipPath id=\"pd8dbb97816\">\r\n   <rect height=\"326.16\" width=\"558\" x=\"43.78125\" y=\"7.2\"/>\r\n  </clipPath>\r\n </defs>\r\n</svg>\r\n",
      "image/png": "[encoded data removed]"
     },
     "metadata": {
      "needs_background": "light"
     }
    }
   ],
   "source": [
    "fig = plt.figure(figsize = (10,6))\n",
    "sns.barplot(x = 'Churn', y = 'gender', data = train)"
   ]
  },
  {
   "cell_type": "code",
   "execution_count": 26,
   "metadata": {},
   "outputs": [
    {
     "output_type": "execute_result",
     "data": {
      "text/plain": [
       "<AxesSubplot:xlabel='Churn', ylabel='customerID'>"
      ]
     },
     "metadata": {},
     "execution_count": 26
    },
    {
     "output_type": "display_data",
     "data": {
      "text/plain": "<Figure size 720x432 with 1 Axes>",
      "image/svg+xml": "<?xml version=\"1.0\" encoding=\"utf-8\" standalone=\"no\"?>\r\n<!DOCTYPE svg PUBLIC \"-//W3C//DTD SVG 1.1//EN\"\r\n  \"http://www.w3.org/Graphics/SVG/1.1/DTD/svg11.dtd\">\r\n<svg height=\"370.91625pt\" version=\"1.1\" viewBox=\"0 0 618.528125 370.91625\" width=\"618.528125pt\" xmlns=\"http://www.w3.org/2000/svg\" xmlns:xlink=\"http://www.w3.org/1999/xlink\">\r\n <metadata>\r\n  <rdf:RDF xmlns:cc=\"http://creativecommons.org/ns#\" xmlns:dc=\"http://purl.org/dc/elements/1.1/\" xmlns:rdf=\"http://www.w3.org/1999/02/22-rdf-syntax-ns#\">\r\n   <cc:Work>\r\n    <dc:type rdf:resource=\"http://purl.org/dc/dcmitype/StillImage\"/>\r\n    <dc:date>2021-06-09T09:31:58.128004</dc:date>\r\n    <dc:format>image/svg+xml</dc:format>\r\n    <dc:creator>\r\n     <cc:Agent>\r\n      <dc:title>Matplotlib v3.4.0, https://matplotlib.org/</dc:title>\r\n     </cc:Agent>\r\n    </dc:creator>\r\n   </cc:Work>\r\n  </rdf:RDF>\r\n </metadata>\r\n <defs>\r\n  <style type=\"text/css\">*{stroke-linecap:butt;stroke-linejoin:round;}</style>\r\n </defs>\r\n <g id=\"figure_1\">\r\n  <g id=\"patch_1\">\r\n   <path d=\"M 0 370.91625 \r\nL 618.528125 370.91625 \r\nL 618.528125 0 \r\nL 0 0 \r\nz\r\n\" style=\"fill:none;\"/>\r\n  </g>\r\n  <g id=\"axes_1\">\r\n   <g id=\"patch_2\">\r\n    <path d=\"M 53.328125 333.36 \r\nL 611.328125 333.36 \r\nL 611.328125 7.2 \r\nL 53.328125 7.2 \r\nz\r\n\" style=\"fill:#ffffff;\"/>\r\n   </g>\r\n   <g id=\"patch_3\">\r\n    <path clip-path=\"url(#p4af8238310)\" d=\"M 81.228125 333.36 \r\nL 304.428125 333.36 \r\nL 304.428125 28.862591 \r\nL 81.228125 28.862591 \r\nz\r\n\" style=\"fill:#3274a1;\"/>\r\n   </g>\r\n   <g id=\"patch_4\">\r\n    <path clip-path=\"url(#p4af8238310)\" d=\"M 360.228125 333.36 \r\nL 583.428125 333.36 \r\nL 583.428125 36.771237 \r\nL 360.228125 36.771237 \r\nz\r\n\" style=\"fill:#e1812c;\"/>\r\n   </g>\r\n   <g id=\"matplotlib.axis_1\">\r\n    <g id=\"xtick_1\">\r\n     <g id=\"line2d_1\">\r\n      <defs>\r\n       <path d=\"M 0 0 \r\nL 0 3.5 \r\n\" id=\"ma2051afa69\" style=\"stroke:#000000;stroke-width:0.8;\"/>\r\n      </defs>\r\n      <g>\r\n       <use style=\"stroke:#000000;stroke-width:0.8;\" x=\"192.828125\" xlink:href=\"#ma2051afa69\" y=\"333.36\"/>\r\n      </g>\r\n     </g>\r\n     <g id=\"text_1\">\r\n      <!-- 0 -->\r\n      <g transform=\"translate(189.646875 347.958438)scale(0.1 -0.1)\">\r\n       <defs>\r\n        <path d=\"M 2034 4250 \r\nQ 1547 4250 1301 3770 \r\nQ 1056 3291 1056 2328 \r\nQ 1056 1369 1301 889 \r\nQ 1547 409 2034 409 \r\nQ 2525 409 2770 889 \r\nQ 3016 1369 3016 2328 \r\nQ 3016 3291 2770 3770 \r\nQ 2525 4250 2034 4250 \r\nz\r\nM 2034 4750 \r\nQ 2819 4750 3233 4129 \r\nQ 3647 3509 3647 2328 \r\nQ 3647 1150 3233 529 \r\nQ 2819 -91 2034 -91 \r\nQ 1250 -91 836 529 \r\nQ 422 1150 422 2328 \r\nQ 422 3509 836 4129 \r\nQ 1250 4750 2034 4750 \r\nz\r\n\" id=\"DejaVuSans-30\" transform=\"scale(0.015625)\"/>\r\n       </defs>\r\n       <use xlink:href=\"#DejaVuSans-30\"/>\r\n      </g>\r\n     </g>\r\n    </g>\r\n    <g id=\"xtick_2\">\r\n     <g id=\"line2d_2\">\r\n      <g>\r\n       <use style=\"stroke:#000000;stroke-width:0.8;\" x=\"471.828125\" xlink:href=\"#ma2051afa69\" y=\"333.36\"/>\r\n      </g>\r\n     </g>\r\n     <g id=\"text_2\">\r\n      <!-- 1 -->\r\n      <g transform=\"translate(468.646875 347.958438)scale(0.1 -0.1)\">\r\n       <defs>\r\n        <path d=\"M 794 531 \r\nL 1825 531 \r\nL 1825 4091 \r\nL 703 3866 \r\nL 703 4441 \r\nL 1819 4666 \r\nL 2450 4666 \r\nL 2450 531 \r\nL 3481 531 \r\nL 3481 0 \r\nL 794 0 \r\nL 794 531 \r\nz\r\n\" id=\"DejaVuSans-31\" transform=\"scale(0.015625)\"/>\r\n       </defs>\r\n       <use xlink:href=\"#DejaVuSans-31\"/>\r\n      </g>\r\n     </g>\r\n    </g>\r\n    <g id=\"text_3\">\r\n     <!-- Churn -->\r\n     <g transform=\"translate(317.3625 361.636562)scale(0.1 -0.1)\">\r\n      <defs>\r\n       <path d=\"M 4122 4306 \r\nL 4122 3641 \r\nQ 3803 3938 3442 4084 \r\nQ 3081 4231 2675 4231 \r\nQ 1875 4231 1450 3742 \r\nQ 1025 3253 1025 2328 \r\nQ 1025 1406 1450 917 \r\nQ 1875 428 2675 428 \r\nQ 3081 428 3442 575 \r\nQ 3803 722 4122 1019 \r\nL 4122 359 \r\nQ 3791 134 3420 21 \r\nQ 3050 -91 2638 -91 \r\nQ 1578 -91 968 557 \r\nQ 359 1206 359 2328 \r\nQ 359 3453 968 4101 \r\nQ 1578 4750 2638 4750 \r\nQ 3056 4750 3426 4639 \r\nQ 3797 4528 4122 4306 \r\nz\r\n\" id=\"DejaVuSans-43\" transform=\"scale(0.015625)\"/>\r\n       <path d=\"M 3513 2113 \r\nL 3513 0 \r\nL 2938 0 \r\nL 2938 2094 \r\nQ 2938 2591 2744 2837 \r\nQ 2550 3084 2163 3084 \r\nQ 1697 3084 1428 2787 \r\nQ 1159 2491 1159 1978 \r\nL 1159 0 \r\nL 581 0 \r\nL 581 4863 \r\nL 1159 4863 \r\nL 1159 2956 \r\nQ 1366 3272 1645 3428 \r\nQ 1925 3584 2291 3584 \r\nQ 2894 3584 3203 3211 \r\nQ 3513 2838 3513 2113 \r\nz\r\n\" id=\"DejaVuSans-68\" transform=\"scale(0.015625)\"/>\r\n       <path d=\"M 544 1381 \r\nL 544 3500 \r\nL 1119 3500 \r\nL 1119 1403 \r\nQ 1119 906 1312 657 \r\nQ 1506 409 1894 409 \r\nQ 2359 409 2629 706 \r\nQ 2900 1003 2900 1516 \r\nL 2900 3500 \r\nL 3475 3500 \r\nL 3475 0 \r\nL 2900 0 \r\nL 2900 538 \r\nQ 2691 219 2414 64 \r\nQ 2138 -91 1772 -91 \r\nQ 1169 -91 856 284 \r\nQ 544 659 544 1381 \r\nz\r\nM 1991 3584 \r\nL 1991 3584 \r\nz\r\n\" id=\"DejaVuSans-75\" transform=\"scale(0.015625)\"/>\r\n       <path d=\"M 2631 2963 \r\nQ 2534 3019 2420 3045 \r\nQ 2306 3072 2169 3072 \r\nQ 1681 3072 1420 2755 \r\nQ 1159 2438 1159 1844 \r\nL 1159 0 \r\nL 581 0 \r\nL 581 3500 \r\nL 1159 3500 \r\nL 1159 2956 \r\nQ 1341 3275 1631 3429 \r\nQ 1922 3584 2338 3584 \r\nQ 2397 3584 2469 3576 \r\nQ 2541 3569 2628 3553 \r\nL 2631 2963 \r\nz\r\n\" id=\"DejaVuSans-72\" transform=\"scale(0.015625)\"/>\r\n       <path d=\"M 3513 2113 \r\nL 3513 0 \r\nL 2938 0 \r\nL 2938 2094 \r\nQ 2938 2591 2744 2837 \r\nQ 2550 3084 2163 3084 \r\nQ 1697 3084 1428 2787 \r\nQ 1159 2491 1159 1978 \r\nL 1159 0 \r\nL 581 0 \r\nL 581 3500 \r\nL 1159 3500 \r\nL 1159 2956 \r\nQ 1366 3272 1645 3428 \r\nQ 1925 3584 2291 3584 \r\nQ 2894 3584 3203 3211 \r\nQ 3513 2838 3513 2113 \r\nz\r\n\" id=\"DejaVuSans-6e\" transform=\"scale(0.015625)\"/>\r\n      </defs>\r\n      <use xlink:href=\"#DejaVuSans-43\"/>\r\n      <use x=\"69.824219\" xlink:href=\"#DejaVuSans-68\"/>\r\n      <use x=\"133.203125\" xlink:href=\"#DejaVuSans-75\"/>\r\n      <use x=\"196.582031\" xlink:href=\"#DejaVuSans-72\"/>\r\n      <use x=\"235.945312\" xlink:href=\"#DejaVuSans-6e\"/>\r\n     </g>\r\n    </g>\r\n   </g>\r\n   <g id=\"matplotlib.axis_2\">\r\n    <g id=\"ytick_1\">\r\n     <g id=\"line2d_3\">\r\n      <defs>\r\n       <path d=\"M 0 0 \r\nL -3.5 0 \r\n\" id=\"m08c6661ba5\" style=\"stroke:#000000;stroke-width:0.8;\"/>\r\n      </defs>\r\n      <g>\r\n       <use style=\"stroke:#000000;stroke-width:0.8;\" x=\"53.328125\" xlink:href=\"#m08c6661ba5\" y=\"333.36\"/>\r\n      </g>\r\n     </g>\r\n     <g id=\"text_4\">\r\n      <!-- 0 -->\r\n      <g transform=\"translate(39.965625 337.159219)scale(0.1 -0.1)\">\r\n       <use xlink:href=\"#DejaVuSans-30\"/>\r\n      </g>\r\n     </g>\r\n    </g>\r\n    <g id=\"ytick_2\">\r\n     <g id=\"line2d_4\">\r\n      <g>\r\n       <use style=\"stroke:#000000;stroke-width:0.8;\" x=\"53.328125\" xlink:href=\"#m08c6661ba5\" y=\"261.767545\"/>\r\n      </g>\r\n     </g>\r\n     <g id=\"text_5\">\r\n      <!-- 500 -->\r\n      <g transform=\"translate(27.240625 265.566763)scale(0.1 -0.1)\">\r\n       <defs>\r\n        <path d=\"M 691 4666 \r\nL 3169 4666 \r\nL 3169 4134 \r\nL 1269 4134 \r\nL 1269 2991 \r\nQ 1406 3038 1543 3061 \r\nQ 1681 3084 1819 3084 \r\nQ 2600 3084 3056 2656 \r\nQ 3513 2228 3513 1497 \r\nQ 3513 744 3044 326 \r\nQ 2575 -91 1722 -91 \r\nQ 1428 -91 1123 -41 \r\nQ 819 9 494 109 \r\nL 494 744 \r\nQ 775 591 1075 516 \r\nQ 1375 441 1709 441 \r\nQ 2250 441 2565 725 \r\nQ 2881 1009 2881 1497 \r\nQ 2881 1984 2565 2268 \r\nQ 2250 2553 1709 2553 \r\nQ 1456 2553 1204 2497 \r\nQ 953 2441 691 2322 \r\nL 691 4666 \r\nz\r\n\" id=\"DejaVuSans-35\" transform=\"scale(0.015625)\"/>\r\n       </defs>\r\n       <use xlink:href=\"#DejaVuSans-35\"/>\r\n       <use x=\"63.623047\" xlink:href=\"#DejaVuSans-30\"/>\r\n       <use x=\"127.246094\" xlink:href=\"#DejaVuSans-30\"/>\r\n      </g>\r\n     </g>\r\n    </g>\r\n    <g id=\"ytick_3\">\r\n     <g id=\"line2d_5\">\r\n      <g>\r\n       <use style=\"stroke:#000000;stroke-width:0.8;\" x=\"53.328125\" xlink:href=\"#m08c6661ba5\" y=\"190.175089\"/>\r\n      </g>\r\n     </g>\r\n     <g id=\"text_6\">\r\n      <!-- 1000 -->\r\n      <g transform=\"translate(20.878125 193.974308)scale(0.1 -0.1)\">\r\n       <use xlink:href=\"#DejaVuSans-31\"/>\r\n       <use x=\"63.623047\" xlink:href=\"#DejaVuSans-30\"/>\r\n       <use x=\"127.246094\" xlink:href=\"#DejaVuSans-30\"/>\r\n       <use x=\"190.869141\" xlink:href=\"#DejaVuSans-30\"/>\r\n      </g>\r\n     </g>\r\n    </g>\r\n    <g id=\"ytick_4\">\r\n     <g id=\"line2d_6\">\r\n      <g>\r\n       <use style=\"stroke:#000000;stroke-width:0.8;\" x=\"53.328125\" xlink:href=\"#m08c6661ba5\" y=\"118.582634\"/>\r\n      </g>\r\n     </g>\r\n     <g id=\"text_7\">\r\n      <!-- 1500 -->\r\n      <g transform=\"translate(20.878125 122.381853)scale(0.1 -0.1)\">\r\n       <use xlink:href=\"#DejaVuSans-31\"/>\r\n       <use x=\"63.623047\" xlink:href=\"#DejaVuSans-35\"/>\r\n       <use x=\"127.246094\" xlink:href=\"#DejaVuSans-30\"/>\r\n       <use x=\"190.869141\" xlink:href=\"#DejaVuSans-30\"/>\r\n      </g>\r\n     </g>\r\n    </g>\r\n    <g id=\"ytick_5\">\r\n     <g id=\"line2d_7\">\r\n      <g>\r\n       <use style=\"stroke:#000000;stroke-width:0.8;\" x=\"53.328125\" xlink:href=\"#m08c6661ba5\" y=\"46.990178\"/>\r\n      </g>\r\n     </g>\r\n     <g id=\"text_8\">\r\n      <!-- 2000 -->\r\n      <g transform=\"translate(20.878125 50.789397)scale(0.1 -0.1)\">\r\n       <defs>\r\n        <path d=\"M 1228 531 \r\nL 3431 531 \r\nL 3431 0 \r\nL 469 0 \r\nL 469 531 \r\nQ 828 903 1448 1529 \r\nQ 2069 2156 2228 2338 \r\nQ 2531 2678 2651 2914 \r\nQ 2772 3150 2772 3378 \r\nQ 2772 3750 2511 3984 \r\nQ 2250 4219 1831 4219 \r\nQ 1534 4219 1204 4116 \r\nQ 875 4013 500 3803 \r\nL 500 4441 \r\nQ 881 4594 1212 4672 \r\nQ 1544 4750 1819 4750 \r\nQ 2544 4750 2975 4387 \r\nQ 3406 4025 3406 3419 \r\nQ 3406 3131 3298 2873 \r\nQ 3191 2616 2906 2266 \r\nQ 2828 2175 2409 1742 \r\nQ 1991 1309 1228 531 \r\nz\r\n\" id=\"DejaVuSans-32\" transform=\"scale(0.015625)\"/>\r\n       </defs>\r\n       <use xlink:href=\"#DejaVuSans-32\"/>\r\n       <use x=\"63.623047\" xlink:href=\"#DejaVuSans-30\"/>\r\n       <use x=\"127.246094\" xlink:href=\"#DejaVuSans-30\"/>\r\n       <use x=\"190.869141\" xlink:href=\"#DejaVuSans-30\"/>\r\n      </g>\r\n     </g>\r\n    </g>\r\n    <g id=\"text_9\">\r\n     <!-- customerID -->\r\n     <g transform=\"translate(14.798438 199.149531)rotate(-90)scale(0.1 -0.1)\">\r\n      <defs>\r\n       <path d=\"M 3122 3366 \r\nL 3122 2828 \r\nQ 2878 2963 2633 3030 \r\nQ 2388 3097 2138 3097 \r\nQ 1578 3097 1268 2742 \r\nQ 959 2388 959 1747 \r\nQ 959 1106 1268 751 \r\nQ 1578 397 2138 397 \r\nQ 2388 397 2633 464 \r\nQ 2878 531 3122 666 \r\nL 3122 134 \r\nQ 2881 22 2623 -34 \r\nQ 2366 -91 2075 -91 \r\nQ 1284 -91 818 406 \r\nQ 353 903 353 1747 \r\nQ 353 2603 823 3093 \r\nQ 1294 3584 2113 3584 \r\nQ 2378 3584 2631 3529 \r\nQ 2884 3475 3122 3366 \r\nz\r\n\" id=\"DejaVuSans-63\" transform=\"scale(0.015625)\"/>\r\n       <path d=\"M 2834 3397 \r\nL 2834 2853 \r\nQ 2591 2978 2328 3040 \r\nQ 2066 3103 1784 3103 \r\nQ 1356 3103 1142 2972 \r\nQ 928 2841 928 2578 \r\nQ 928 2378 1081 2264 \r\nQ 1234 2150 1697 2047 \r\nL 1894 2003 \r\nQ 2506 1872 2764 1633 \r\nQ 3022 1394 3022 966 \r\nQ 3022 478 2636 193 \r\nQ 2250 -91 1575 -91 \r\nQ 1294 -91 989 -36 \r\nQ 684 19 347 128 \r\nL 347 722 \r\nQ 666 556 975 473 \r\nQ 1284 391 1588 391 \r\nQ 1994 391 2212 530 \r\nQ 2431 669 2431 922 \r\nQ 2431 1156 2273 1281 \r\nQ 2116 1406 1581 1522 \r\nL 1381 1569 \r\nQ 847 1681 609 1914 \r\nQ 372 2147 372 2553 \r\nQ 372 3047 722 3315 \r\nQ 1072 3584 1716 3584 \r\nQ 2034 3584 2315 3537 \r\nQ 2597 3491 2834 3397 \r\nz\r\n\" id=\"DejaVuSans-73\" transform=\"scale(0.015625)\"/>\r\n       <path d=\"M 1172 4494 \r\nL 1172 3500 \r\nL 2356 3500 \r\nL 2356 3053 \r\nL 1172 3053 \r\nL 1172 1153 \r\nQ 1172 725 1289 603 \r\nQ 1406 481 1766 481 \r\nL 2356 481 \r\nL 2356 0 \r\nL 1766 0 \r\nQ 1100 0 847 248 \r\nQ 594 497 594 1153 \r\nL 594 3053 \r\nL 172 3053 \r\nL 172 3500 \r\nL 594 3500 \r\nL 594 4494 \r\nL 1172 4494 \r\nz\r\n\" id=\"DejaVuSans-74\" transform=\"scale(0.015625)\"/>\r\n       <path d=\"M 1959 3097 \r\nQ 1497 3097 1228 2736 \r\nQ 959 2375 959 1747 \r\nQ 959 1119 1226 758 \r\nQ 1494 397 1959 397 \r\nQ 2419 397 2687 759 \r\nQ 2956 1122 2956 1747 \r\nQ 2956 2369 2687 2733 \r\nQ 2419 3097 1959 3097 \r\nz\r\nM 1959 3584 \r\nQ 2709 3584 3137 3096 \r\nQ 3566 2609 3566 1747 \r\nQ 3566 888 3137 398 \r\nQ 2709 -91 1959 -91 \r\nQ 1206 -91 779 398 \r\nQ 353 888 353 1747 \r\nQ 353 2609 779 3096 \r\nQ 1206 3584 1959 3584 \r\nz\r\n\" id=\"DejaVuSans-6f\" transform=\"scale(0.015625)\"/>\r\n       <path d=\"M 3328 2828 \r\nQ 3544 3216 3844 3400 \r\nQ 4144 3584 4550 3584 \r\nQ 5097 3584 5394 3201 \r\nQ 5691 2819 5691 2113 \r\nL 5691 0 \r\nL 5113 0 \r\nL 5113 2094 \r\nQ 5113 2597 4934 2840 \r\nQ 4756 3084 4391 3084 \r\nQ 3944 3084 3684 2787 \r\nQ 3425 2491 3425 1978 \r\nL 3425 0 \r\nL 2847 0 \r\nL 2847 2094 \r\nQ 2847 2600 2669 2842 \r\nQ 2491 3084 2119 3084 \r\nQ 1678 3084 1418 2786 \r\nQ 1159 2488 1159 1978 \r\nL 1159 0 \r\nL 581 0 \r\nL 581 3500 \r\nL 1159 3500 \r\nL 1159 2956 \r\nQ 1356 3278 1631 3431 \r\nQ 1906 3584 2284 3584 \r\nQ 2666 3584 2933 3390 \r\nQ 3200 3197 3328 2828 \r\nz\r\n\" id=\"DejaVuSans-6d\" transform=\"scale(0.015625)\"/>\r\n       <path d=\"M 3597 1894 \r\nL 3597 1613 \r\nL 953 1613 \r\nQ 991 1019 1311 708 \r\nQ 1631 397 2203 397 \r\nQ 2534 397 2845 478 \r\nQ 3156 559 3463 722 \r\nL 3463 178 \r\nQ 3153 47 2828 -22 \r\nQ 2503 -91 2169 -91 \r\nQ 1331 -91 842 396 \r\nQ 353 884 353 1716 \r\nQ 353 2575 817 3079 \r\nQ 1281 3584 2069 3584 \r\nQ 2775 3584 3186 3129 \r\nQ 3597 2675 3597 1894 \r\nz\r\nM 3022 2063 \r\nQ 3016 2534 2758 2815 \r\nQ 2500 3097 2075 3097 \r\nQ 1594 3097 1305 2825 \r\nQ 1016 2553 972 2059 \r\nL 3022 2063 \r\nz\r\n\" id=\"DejaVuSans-65\" transform=\"scale(0.015625)\"/>\r\n       <path d=\"M 628 4666 \r\nL 1259 4666 \r\nL 1259 0 \r\nL 628 0 \r\nL 628 4666 \r\nz\r\n\" id=\"DejaVuSans-49\" transform=\"scale(0.015625)\"/>\r\n       <path d=\"M 1259 4147 \r\nL 1259 519 \r\nL 2022 519 \r\nQ 2988 519 3436 956 \r\nQ 3884 1394 3884 2338 \r\nQ 3884 3275 3436 3711 \r\nQ 2988 4147 2022 4147 \r\nL 1259 4147 \r\nz\r\nM 628 4666 \r\nL 1925 4666 \r\nQ 3281 4666 3915 4102 \r\nQ 4550 3538 4550 2338 \r\nQ 4550 1131 3912 565 \r\nQ 3275 0 1925 0 \r\nL 628 0 \r\nL 628 4666 \r\nz\r\n\" id=\"DejaVuSans-44\" transform=\"scale(0.015625)\"/>\r\n      </defs>\r\n      <use xlink:href=\"#DejaVuSans-63\"/>\r\n      <use x=\"54.980469\" xlink:href=\"#DejaVuSans-75\"/>\r\n      <use x=\"118.359375\" xlink:href=\"#DejaVuSans-73\"/>\r\n      <use x=\"170.458984\" xlink:href=\"#DejaVuSans-74\"/>\r\n      <use x=\"209.667969\" xlink:href=\"#DejaVuSans-6f\"/>\r\n      <use x=\"270.849609\" xlink:href=\"#DejaVuSans-6d\"/>\r\n      <use x=\"368.261719\" xlink:href=\"#DejaVuSans-65\"/>\r\n      <use x=\"429.785156\" xlink:href=\"#DejaVuSans-72\"/>\r\n      <use x=\"470.898438\" xlink:href=\"#DejaVuSans-49\"/>\r\n      <use x=\"500.390625\" xlink:href=\"#DejaVuSans-44\"/>\r\n     </g>\r\n    </g>\r\n   </g>\r\n   <g id=\"line2d_8\">\r\n    <path clip-path=\"url(#p4af8238310)\" d=\"M 192.828125 35.419824 \r\nL 192.828125 22.731429 \r\n\" style=\"fill:none;stroke:#424242;stroke-linecap:square;stroke-width:2.7;\"/>\r\n   </g>\r\n   <g id=\"line2d_9\">\r\n    <path clip-path=\"url(#p4af8238310)\" d=\"M 471.828125 46.787223 \r\nL 471.828125 26.346962 \r\n\" style=\"fill:none;stroke:#424242;stroke-linecap:square;stroke-width:2.7;\"/>\r\n   </g>\r\n   <g id=\"patch_5\">\r\n    <path d=\"M 53.328125 333.36 \r\nL 53.328125 7.2 \r\n\" style=\"fill:none;stroke:#000000;stroke-linecap:square;stroke-linejoin:miter;stroke-width:0.8;\"/>\r\n   </g>\r\n   <g id=\"patch_6\">\r\n    <path d=\"M 611.328125 333.36 \r\nL 611.328125 7.2 \r\n\" style=\"fill:none;stroke:#000000;stroke-linecap:square;stroke-linejoin:miter;stroke-width:0.8;\"/>\r\n   </g>\r\n   <g id=\"patch_7\">\r\n    <path d=\"M 53.328125 333.36 \r\nL 611.328125 333.36 \r\n\" style=\"fill:none;stroke:#000000;stroke-linecap:square;stroke-linejoin:miter;stroke-width:0.8;\"/>\r\n   </g>\r\n   <g id=\"patch_8\">\r\n    <path d=\"M 53.328125 7.2 \r\nL 611.328125 7.2 \r\n\" style=\"fill:none;stroke:#000000;stroke-linecap:square;stroke-linejoin:miter;stroke-width:0.8;\"/>\r\n   </g>\r\n  </g>\r\n </g>\r\n <defs>\r\n  <clipPath id=\"p4af8238310\">\r\n   <rect height=\"326.16\" width=\"558\" x=\"53.328125\" y=\"7.2\"/>\r\n  </clipPath>\r\n </defs>\r\n</svg>\r\n",
      "image/png": "[encoded data removed]"
     },
     "metadata": {
      "needs_background": "light"
     }
    }
   ],
   "source": [
    "fig = plt.figure(figsize = (10,6))\n",
    "sns.barplot(x = 'Churn', y = 'customerID', data = train)"
   ]
  },
  {
   "cell_type": "code",
   "execution_count": 27,
   "metadata": {},
   "outputs": [],
   "source": [
    "#y_train = train[\"Churn\"]\n",
    "#x_train = train.drop(['Churn', 'gender','customerID'], axis=1)\n",
    "\n",
    "#y_test = train[\"Churn\"]\n",
    "#x_test = train.drop(['Churn', 'gender','customerID'], axis=1)\n",
    "\n",
    "y_train = train[\"Churn\"].values #valori di class\n",
    "X_train = train.drop(['Churn','gender','customerID'], axis=1).values #tutti i dati eccetto la colonna \"class\"\n",
    "\n",
    "y_test = test[\"Churn\"].values #valori di class\n",
    "X_test = test.drop(['Churn','gender','customerID'], axis=1).values"
   ]
  },
  {
   "cell_type": "code",
   "execution_count": 28,
   "metadata": {},
   "outputs": [
    {
     "output_type": "execute_result",
     "data": {
      "text/plain": [
       "Churn                  int64\n",
       "customerID             int32\n",
       "gender                 int64\n",
       "SeniorCitizen          int64\n",
       "Partner                int64\n",
       "Dependents             int64\n",
       "tenure                 int64\n",
       "PhoneService           int64\n",
       "MultipleLines          int64\n",
       "InternetService        int64\n",
       "OnlineSecurity         int64\n",
       "OnlineBackup           int64\n",
       "DeviceProtection       int64\n",
       "TechSupport            int64\n",
       "Contract               int32\n",
       "PaperlessBilling       int64\n",
       "PaymentMethod          int32\n",
       "MonthlyCharges       float64\n",
       "TotalCharges         float64\n",
       "StreamingServices      int64\n",
       "dtype: object"
      ]
     },
     "metadata": {},
     "execution_count": 28
    }
   ],
   "source": [
    "train.dtypes"
   ]
  },
  {
   "cell_type": "code",
   "execution_count": 29,
   "metadata": {},
   "outputs": [
    {
     "output_type": "stream",
     "name": "stdout",
     "text": [
      "79.7\n"
     ]
    }
   ],
   "source": [
    "logic = LogisticRegression(random_state=0, max_iter=1000)\n",
    "logic.fit(X_train, y_train)\n",
    "y_pred = logic.predict(X_test)\n",
    "\n",
    "MYaccurancy=round(accuracy_score(y_test, y_pred) * 100,2)\n",
    "print(MYaccurancy)"
   ]
  },
  {
   "cell_type": "code",
   "execution_count": 30,
   "metadata": {},
   "outputs": [
    {
     "output_type": "execute_result",
     "data": {
      "text/plain": [
       "         1                0               1   \n",
       "1399             0              2                0               1   \n",
       "255              1              0                1               0   \n",
       "782              1              0                0               0   \n",
       "1070             1              0                0               1   \n",
       "\n",
       "      OnlineBackup  DeviceProtection  TechSupport  Contract  PaperlessBilling  \\\n",
       "1377             2                 2            2         2                 0   \n",
       "912              1                 1            0         1                 0   \n",
       "1273             2                 2            2         2                 0   \n",
       "618              0                 0            0         0                 1   \n",
       "1308             0                 0            0         0                 0   \n",
       "492              1                 1            1         1                 0   \n",
       "1399             1                 0            1         2                 0   \n",
       "255              1                 0            0         0                 1   \n",
       "782              0                 0            1         0                 1   \n",
       "1070             1                 0            1         1                 0   \n",
       "\n",
       "      PaymentMethod  MonthlyCharges  TotalCharges  StreamingServices  \n",
       "1377              3           19.65       1025.05                  1  \n",
       "912               3           39.55        373.00                  0  \n",
       "1273              2           24.45       1493.10                  1  \n",
       "618               3           48.80        720.10                  0  \n",
       "1308              0           70.25       2868.05                  0  \n",
       "492               2           67.45       2443.30                  0  \n",
       "1399              3           40.55        590.35                  0  \n",
       "255               1           74.30         74.30                  0  \n",
       "782               3           51.00        286.80                  0  \n",
       "1070              1           60.50       3870.00                  0  "
      ],
      "text/html": "<div>\n<style scoped>\n    .dataframe tbody tr th:only-of-type {\n        vertical-align: middle;\n    }\n\n    .dataframe tbody tr th {\n        vertical-align: top;\n    }\n\n    .dataframe thead th {\n        text-align: right;\n    }\n</style>\n<table border=\"1\" class=\"dataframe\">\n  <thead>\n    <tr style=\"text-align: right;\">\n      <th></th>\n      <th>Churn</th>\n      <th>customerID</th>\n      <th>gender</th>\n      <th>SeniorCitizen</th>\n      <th>Partner</th>\n      <th>Dependents</th>\n      <th>tenure</th>\n      <th>PhoneService</th>\n      <th>MultipleLines</th>\n      <th>InternetService</th>\n      <th>OnlineSecurity</th>\n      <th>OnlineBackup</th>\n      <th>DeviceProtection</th>\n      <th>TechSupport</th>\n      <th>Contract</th>\n      <th>PaperlessBilling</th>\n      <th>PaymentMethod</th>\n      <th>MonthlyCharges</th>\n      <th>TotalCharges</th>\n      <th>StreamingServices</th>\n    </tr>\n  </thead>\n  <tbody>\n    <tr>\n      <th>1377</th>\n      <td>0</td>\n      <td>171</td>\n      <td>0</td>\n      <td>0</td>\n      <td>0</td>\n      <td>0</td>\n      <td>52</td>\n      <td>1</td>\n      <td>0</td>\n      <td>2</td>\n      <td>2</td>\n      <td>2</td>\n      <td>2</td>\n      <td>2</td>\n      <td>2</td>\n      <td>0</td>\n      <td>3</td>\n      <td>19.65</td>\n      <td>1025.05</td>\n      <td>1</td>\n    </tr>\n    <tr>\n      <th>912</th>\n      <td>0</td>\n      <td>55</td>\n      <td>0</td>\n      <td>0</td>\n      <td>0</td>\n      <td>0</td>\n      <td>9</td>\n      <td>0</td>\n      <td>2</td>\n      <td>0</td>\n      <td>1</td>\n      <td>1</td>\n      <td>1</td>\n      <td>0</td>\n      <td>1</td>\n      <td>0</td>\n      <td>3</td>\n      <td>39.55</td>\n      <td>373.00</td>\n      <td>0</td>\n    </tr>\n    <tr>\n      <th>1273</th>\n      <td>0</td>\n      <td>716</td>\n      <td>1</td>\n      <td>0</td>\n      <td>0</td>\n      <td>0</td>\n      <td>59</td>\n      <td>1</td>\n      <td>1</td>\n      <td>2</td>\n      <td>2</td>\n      <td>2</td>\n      <td>2</td>\n      <td>2</td>\n      <td>2</td>\n      <td>0</td>\n      <td>2</td>\n      <td>24.45</td>\n      <td>1493.10</td>\n      <td>1</td>\n    </tr>\n    <tr>\n      <th>618</th>\n      <td>0</td>\n      <td>1092</td>\n      <td>1</td>\n      <td>0</td>\n      <td>0</td>\n      <td>0</td>\n      <td>15</td>\n      <td>1</td>\n      <td>1</td>\n      <td>0</td>\n      <td>0</td>\n      <td>0</td>\n      <td>0</td>\n      <td>0</td>\n      <td>0</td>\n      <td>1</td>\n      <td>3</td>\n      <td>48.80</td>\n      <td>720.10</td>\n      <td>0</td>\n    </tr>\n    <tr>\n      <th>1308</th>\n      <td>1</td>\n      <td>138</td>\n      <td>1</td>\n      <td>0</td>\n      <td>0</td>\n      <td>0</td>\n      <td>41</td>\n      <td>1</td>\n      <td>0</td>\n      <td>1</td>\n      <td>0</td>\n      <td>0</td>\n      <td>0</td>\n      <td>0</td>\n      <td>0</td>\n      <td>0</td>\n      <td>0</td>\n      <td>70.25</td>\n      <td>2868.05</td>\n      <td>0</td>\n    </tr>\n    <tr>\n      <th>492</th>\n      <td>0</td>\n      <td>1298</td>\n      <td>0</td>\n      <td>0</td>\n      <td>0</td>\n      <td>0</td>\n      <td>37</td>\n      <td>1</td>\n      <td>1</td>\n      <td>0</td>\n      <td>1</td>\n      <td>1</td>\n      <td>1</td>\n      <td>1</td>\n      <td>1</td>\n      <td>0</td>\n      <td>2</td>\n      <td>67.45</td>\n      <td>2443.30</td>\n      <td>0</td>\n    </tr>\n    <tr>\n      <th>1399</th>\n      <td>0</td>\n      <td>1020</td>\n      <td>0</td>\n      <td>0</td>\n      <td>1</td>\n      <td>1</td>\n      <td>13</td>\n      <td>0</td>\n      <td>2</td>\n      <td>0</td>\n      <td>1</td>\n      <td>1</td>\n      <td>0</td>\n      <td>1</td>\n      <td>2</td>\n      <td>0</td>\n      <td>3</td>\n      <td>40.55</td>\n      <td>590.35</td>\n      <td>0</td>\n    </tr>\n    <tr>\n      <th>255</th>\n      <td>1</td>\n      <td>1396</td>\n      <td>1</td>\n      <td>0</td>\n      <td>0</td>\n      <td>0</td>\n      <td>1</td>\n      <td>1</td>\n      <td>0</td>\n      <td>1</td>\n      <td>0</td>\n      <td>1</td>\n      <td>0</td>\n      <td>0</td>\n      <td>0</td>\n      <td>1</td>\n      <td>1</td>\n      <td>74.30</td>\n      <td>74.30</td>\n      <td>0</td>\n    </tr>\n    <tr>\n      <th>782</th>\n      <td>0</td>\n      <td>599</td>\n      <td>1</td>\n      <td>0</td>\n      <td>0</td>\n      <td>1</td>\n      <td>5</td>\n      <td>1</td>\n      <td>0</td>\n      <td>0</td>\n      <td>0</td>\n      <td>0</td>\n      <td>0</td>\n      <td>1</td>\n      <td>0</td>\n      <td>1</td>\n      <td>3</td>\n      <td>51.00</td>\n      <td>286.80</td>\n      <td>0</td>\n    </tr>\n    <tr>\n      <th>1070</th>\n      <td>0</td>\n      <td>418</td>\n      <td>1</td>\n      <td>0</td>\n      <td>0</td>\n      <td>0</td>\n      <td>67</td>\n      <td>1</td>\n      <td>0</td>\n      <td>0</td>\n      <td>1</td>\n      <td>1</td>\n      <td>0</td>\n      <td>1</td>\n      <td>1</td>\n      <td>0</td>\n      <td>1</td>\n      <td>60.50</td>\n      <td>3870.00</td>\n      <td>0</td>\n    </tr>\n  </tbody>\n</table>\n</div>"
     },
     "metadata": {},
     "execution_count": 30
    }
   ],
   "source": [
    "test.sample(10)"
   ]
  },
  {
   "cell_type": "code",
   "execution_count": 33,
   "metadata": {},
   "outputs": [
    {
     "output_type": "stream",
     "name": "stdout",
     "text": [
      "Accuracy on test set: 0.797\n"
     ]
    }
   ],
   "source": [
    "logic = LogisticRegression(random_state=0, max_iter=1000)\n",
    "logic.fit(X_train, y_train)\n",
    "print(\"Accuracy on test set: {:.3f}\".format(logic.score(X_test, y_test)))"
   ]
  }
 ],
 "metadata": {
  "kernelspec": {
   "name": "python392jvsc74a57bd0d362f0ee3d5afa077a57ec1be67ce13277cc81209b993aa96a8631d1510698c4",
   "display_name": "Python 3.9.2 64-bit"
  },
  "language_info": {
   "codemirror_mode": {
    "name": "ipython",
    "version": 3
   },
   "file_extension": ".py",
   "mimetype": "text/x-python",
   "name": "python",
   "nbconvert_exporter": "python",
   "pygments_lexer": "ipython3",
   "version": "3.9.2"
  },
  "metadata": {
   "interpreter": {
    "hash": "d362f0ee3d5afa077a57ec1be67ce13277cc81209b993aa96a8631d1510698c4"
   }
  }
 },
 "nbformat": 4,
 "nbformat_minor": 4
}